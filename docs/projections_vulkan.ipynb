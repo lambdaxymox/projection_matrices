{
 "cells": [
  {
   "cell_type": "markdown",
   "id": "3fa41f3d-60f5-4212-8ab9-b96ebbe7b2dd",
   "metadata": {},
   "source": [
    "# Vulkan"
   ]
  },
  {
   "cell_type": "markdown",
   "id": "066cc8ca-d0b3-45dd-8c84-54b444a04691",
   "metadata": {},
   "source": [
    "In this section we derive the projection matrices for Vulkan. The basic process is the following.\n",
    "\n",
    "1. Define the view space orthonormal frame.\n",
    "2. Define the clip space orthonormal frame compatible with the target canonical view volume. The target clip space should have the same orthonormal frame as the target canonical view volume.\n",
    "3. Define the target canonical view volume's view volume.\n",
    "4. Define the frustum parameters for the view space viewing frustum.\n",
    "5. Using the frustum parameters and the canonical view volume parameters, construct a canonical version of the projection of interest.\n",
    "6. Construct a coordinate transformation from the view space orthonormal frame to the canonincal view space orthonormal frame.\n",
    "7. Construct a coordinate transformation from the canonical clip space to the target clip space.\n",
    "8. Multiply the resulting matrices together in the right order to get the final result.\n",
    "\n",
    "We now proceed to do this for Vulkan's left-handed and right-handed view space coordinate frames."
   ]
  },
  {
   "cell_type": "code",
   "execution_count": 16,
   "id": "d4a744f5-5af2-498e-a880-db744c46cede",
   "metadata": {},
   "outputs": [],
   "source": [
    "import sys\n",
    "import os\n",
    "\n",
    "sys.path.insert(0, os.path.abspath('../projection_matrices'))"
   ]
  },
  {
   "cell_type": "code",
   "execution_count": 17,
   "id": "a658987f-ead1-44a9-8dd1-705e685fe3fe",
   "metadata": {},
   "outputs": [],
   "source": [
    "import sympy\n",
    "import projection_matrices as pm"
   ]
  },
  {
   "cell_type": "code",
   "execution_count": 18,
   "id": "2aa65197-58d1-4c8a-a2a5-7ba33cbd1822",
   "metadata": {},
   "outputs": [],
   "source": [
    "def equation_for_display(lhs, rhs) -> sympy.Eq:\n",
    "    expr_lhs = sympy.Symbol('expr_lhs')\n",
    "    expr_rhs = sympy.Symbol('expr_rhs')\n",
    "    expr_lhs = sympy.UnevaluatedExpr(lhs)\n",
    "    expr_rhs = sympy.UnevaluatedExpr(rhs)\n",
    "\n",
    "    return sympy.Eq(expr_lhs, expr_rhs)"
   ]
  },
  {
   "cell_type": "code",
   "execution_count": 19,
   "id": "84eed283-e0f9-4e9d-afc7-09689695c087",
   "metadata": {},
   "outputs": [],
   "source": [
    "def change_of_orientation_lh_to_rh() -> sympy.Matrix:\n",
    "    return sympy.Matrix([\n",
    "        [1, 0,  0, 0],\n",
    "        [0, 1,  0, 0],\n",
    "        [0, 0, -1, 0],\n",
    "        [0, 0,  0, 1]\n",
    "    ])\n",
    "\n",
    "def change_of_orientation_rh_to_lh() -> sympy.Matrix:\n",
    "    return sympy.Matrix([\n",
    "        [1, 0,  0, 0],\n",
    "        [0, 1,  0, 0],\n",
    "        [0, 0, -1, 0],\n",
    "        [0, 0,  0, 1]\n",
    "    ])\n",
    "\n",
    "def change_of_orientation_lh_to_lh() -> sympy.Matrix:\n",
    "    return sympy.Matrix([\n",
    "        [1, 0,  0, 0],\n",
    "        [0, 1,  0, 0],\n",
    "        [0, 0,  1, 0],\n",
    "        [0, 0,  0, 1]\n",
    "    ])\n",
    "\n",
    "def change_of_orientation_rh_to_rh() -> sympy.Matrix:\n",
    "    return sympy.Matrix([\n",
    "        [1, 0,  0, 0],\n",
    "        [0, 1,  0, 0],\n",
    "        [0, 0,  1, 0],\n",
    "        [0, 0,  0, 1]\n",
    "    ])"
   ]
  },
  {
   "cell_type": "code",
   "execution_count": 20,
   "id": "c4a0d788-0429-4c82-9f99-9963845615da",
   "metadata": {},
   "outputs": [],
   "source": [
    "def rotation_x(angle: sympy.Symbol) -> sympy.Matrix:\n",
    "    return sympy.Matrix([\n",
    "        [1, 0,                 0,                0],\n",
    "        [0, sympy.cos(angle), -sympy.sin(angle), 0],\n",
    "        [0, sympy.sin(angle),  sympy.cos(angle), 0],\n",
    "        [0, 0,                 0,                1]\n",
    "    ])"
   ]
  },
  {
   "cell_type": "markdown",
   "id": "8373598f-1490-4a94-b528-9a53dbc43621",
   "metadata": {},
   "source": [
    "## Vector Space Details For The Vulkan Left-Handed Orthornormal Frames"
   ]
  },
  {
   "cell_type": "markdown",
   "id": "b1d81c5f-43ad-498f-b0da-f56bf10fc44d",
   "metadata": {},
   "source": [
    "The **view space** is a vector space $V_{\\text{view}} := (\\mathbb{R}^3, O_{\\text{view}}, B_{\\text{view}})$ with the following properties:\n",
    "\n",
    "* The underlying vector space is $\\mathbb{R}^3$.\n",
    "* The **origin** of the frame is $O_{\\text{view}} := \\begin{bmatrix} 0 & 0 & 0 \\end{bmatrix}^T$\n",
    "* The **basis** of the frame is $B_{\\text{view}} := \\{ \\hat{x}, -\\hat{y}, -\\hat{z} \\}$ where \n",
    "$\\hat{x} := \\begin{bmatrix} 1 & 0 & 0 \\end{bmatrix}^T, \\quad \n",
    "\\hat{y} := \\begin{bmatrix} 0 & 1 & 0 \\end{bmatrix}^T, \\quad \n",
    "\\hat{z} := \\begin{bmatrix} 0 & 0 & 1 \\end{bmatrix}^T$. The basis vector $\\hat{x}$ points to the right, the basis vector $-\\hat{y}$ points down, and the basis vector $-\\hat{z}$ points towards the viewer out of the view volume.\n",
    "* The orthonormal frame $(O_{\\text{view}}, B_{\\text{view}})$ has a left-handed orientation.\n",
    "\n",
    "The **clip space** is a vector space $V_{\\text{clip}} := (\\mathbb{R}^3, O_{\\text{clip}}, B_{\\text{clip}})$ with the following properties:\n",
    "\n",
    "* The underlying vector space is $\\mathbb{R}^3$.\n",
    "* The **origin** of the frame is $O_{\\text{clip}} := \\begin{bmatrix} 0 & 0 & 0 \\end{bmatrix}^T$\n",
    "* The **basis** of the frame is $B_{\\text{clip}} := \\{ \\hat{x}, -\\hat{y}, \\hat{z} \\}$ where \n",
    "$\\hat{x} := \\begin{bmatrix} 1 & 0 & 0 \\end{bmatrix}^T, \\quad \n",
    "\\hat{y} := \\begin{bmatrix} 0 & 1 & 0 \\end{bmatrix}^T, \\quad \n",
    "\\hat{z} := \\begin{bmatrix} 0 & 0 & 1 \\end{bmatrix}^T$. The basis vector $\\hat{x}$ points to the right, the basis vector $-\\hat{y}$ points down, and the basis vector $\\hat{z}$ points into the view volume.\n",
    "* The orthonormal frame $(O_{\\text{clip}}, B_{\\text{clip}})$ has a right-handed orientation.\n",
    "\n",
    "The **canonical view volume** is the vector space $V_{\\text{cvv}} := (\\mathbb{R}^3, O_{\\text{cvv}}, B_{\\text{cvv}})$ with the following properties:\n",
    "\n",
    "* The underlying vector space is $\\mathbb{R}^3$.\n",
    "* The **origin** of the frame is $O_{\\text{cvv}} := \\begin{bmatrix} 0 & 0 & 0 \\end{bmatrix}^T$\n",
    "* The **basis** of the frame is $B_{\\text{cvv}} := \\{ \\hat{x}, -\\hat{y}, \\hat{z} \\}$ where \n",
    "$\\hat{x} := \\begin{bmatrix} 1 & 0 & 0 \\end{bmatrix}^T, \\quad \n",
    "\\hat{y} := \\begin{bmatrix} 0 & 1 & 0 \\end{bmatrix}^T, \\quad \n",
    "\\hat{z} := \\begin{bmatrix} 0 & 0 & 1 \\end{bmatrix}^T$. The basis vector $\\hat{x}$ points to the right, the basis vector $-\\hat{y}$ points down, and the basis vector $\\hat{z}$ points into the view volume.\n",
    "* The orthonormal frame $(O_{\\text{cvv}}, B_{\\text{cvv}})$ has a right-handed orientation.\n",
    "* The **view volume** is parametrized by $[-1, 1] \\times [-1, 1] \\times [0, 1]$."
   ]
  },
  {
   "cell_type": "markdown",
   "id": "87e26a24-c949-4809-99c7-efd0631e46e1",
   "metadata": {},
   "source": [
    "## Derivation Of The Projection Matrices For The Left-Handed View Space Orthonormal Frame"
   ]
  },
  {
   "cell_type": "markdown",
   "id": "3406cf46-9230-47b8-823f-9f542d172f0a",
   "metadata": {},
   "source": [
    "In each case, we map the Vulkan view space coordinate system to canonical view space coordinate system, apply the canonical transformation, then apply the clip space coordinate system transformation to get to Vulkan's clip space. In the left-handed case, we map Vulkan's view space coordinate frame to the canonical view space coordinate frame with a rotation of $\\pi$ radians about the x-axis. We map the canonical clip space coordinate frame to Vulkan's clip space frame using a rotation of $\\pi$ radians about the x-axis and a change of orientation flipping the z-axis. This results in the desired projection matrices."
   ]
  },
  {
   "cell_type": "code",
   "execution_count": 21,
   "id": "97e0b1b3-9bb3-420a-9368-586449f87a95",
   "metadata": {},
   "outputs": [],
   "source": [
    "def perspective_lh_vulkan() -> sympy.Matrix:\n",
    "    l, r, b, t, n, f = sympy.symbols('l r b t n f')\n",
    "    frustum_bounds_vk = pm.FrustumBounds(l, r, b, t, n, f)\n",
    "    ndc_bounds_vk = pm.NDCBounds(-1, 1, -1, 1, 0, 1)\n",
    "    m_per_can_lh_lh = pm.perspective(frustum_bounds_vk, ndc_bounds_vk)\n",
    "    \n",
    "    x_lh_lh = change_of_orientation_lh_to_lh()\n",
    "    x_lh_rh = change_of_orientation_lh_to_rh()\n",
    "    c_vk = rotation_x(sympy.pi)\n",
    "    c_vk_inv = c_vk.inv()\n",
    "\n",
    "    m_per_lh_rh = (x_lh_rh * c_vk_inv) * m_per_can_lh_lh * (c_vk * x_lh_lh)\n",
    "\n",
    "    return m_per_lh_rh\n",
    "\n",
    "def perspective_fov_lh_vulkan() -> sympy.Matrix:\n",
    "    aspect, theta_vfov, n, f = sympy.symbols('aspect theta_vfov n f')\n",
    "    frustum_fov_bounds_vk = pm.FrustumFovBounds(aspect, theta_vfov, n, f)\n",
    "    ndc_bounds_vk = pm.NDCBounds(-1, 1, -1, 1, 0, 1)\n",
    "    m_per_fov_can_lh_lh = pm.perspective_fov(frustum_fov_bounds_vk, ndc_bounds_vk)\n",
    "\n",
    "    x_lh_lh = change_of_orientation_lh_to_lh()\n",
    "    x_lh_rh = change_of_orientation_lh_to_rh()\n",
    "    c_vk = rotation_x(sympy.pi)\n",
    "    c_vk_inv = c_vk.inv()\n",
    "\n",
    "    m_per_fov_lh_rh = (x_lh_rh * c_vk_inv) * m_per_fov_can_lh_lh * (c_vk * x_lh_lh)\n",
    "\n",
    "    return m_per_fov_lh_rh\n",
    "\n",
    "def orthographic_lh_vulkan() -> sympy.Matrix:\n",
    "    l, r, b, t, n, f = sympy.symbols('l r b t n f')\n",
    "    frustum_bounds_vk = pm.FrustumBounds(l, r, b, t, n, f)\n",
    "    ndc_bounds_vk = pm.NDCBounds(-1, 1, -1, 1, 0, 1)\n",
    "    m_orth_can_lh_lh = pm.orthographic(frustum_bounds_vk, ndc_bounds_vk)\n",
    "\n",
    "    x_lh_lh = change_of_orientation_lh_to_lh()\n",
    "    x_lh_rh = change_of_orientation_lh_to_rh()\n",
    "    c_vk = rotation_x(sympy.pi)\n",
    "    c_vk_inv = c_vk.inv()\n",
    "\n",
    "    m_orth_lh_rh = (x_lh_rh * c_vk_inv) * m_orth_can_lh_lh * (c_vk * x_lh_lh)\n",
    "\n",
    "    return m_orth_lh_rh"
   ]
  },
  {
   "cell_type": "markdown",
   "id": "9caafdec-cd98-4270-89c6-e28a2aa79b68",
   "metadata": {},
   "source": [
    "The left-handed frustum perspective projection matrix is given by"
   ]
  },
  {
   "cell_type": "code",
   "execution_count": 22,
   "id": "950abc77-ecd4-49a9-883c-a9b3e1437394",
   "metadata": {},
   "outputs": [
    {
     "data": {
      "text/latex": [
       "$\\displaystyle M^{Vulkan}_{per, lh} = \\left[\\begin{matrix}\\frac{2 n}{l + r} & 0 & - \\frac{l - r}{l + r} & 0\\\\0 & \\frac{2 n}{b + t} & \\frac{b - t}{b + t} & 0\\\\0 & 0 & - \\frac{f}{f - n} & - \\frac{f n}{f - n}\\\\0 & 0 & -1 & 0\\end{matrix}\\right]$"
      ],
      "text/plain": [
       "Eq(M^{Vulkan}_{per, lh}, Matrix([\n",
       "[2*n/(l + r),           0, -(l - r)/(l + r),            0],\n",
       "[          0, 2*n/(b + t),  (b - t)/(b + t),            0],\n",
       "[          0,           0,       -f/(f - n), -f*n/(f - n)],\n",
       "[          0,           0,               -1,            0]]))"
      ]
     },
     "execution_count": 22,
     "metadata": {},
     "output_type": "execute_result"
    }
   ],
   "source": [
    "m_per_vk_sym = sympy.Symbol(r'M^{Vulkan}_{per, lh}')\n",
    "m_per_vk = perspective_lh_vulkan()\n",
    "equation_for_display(m_per_vk_sym, m_per_vk)"
   ]
  },
  {
   "cell_type": "markdown",
   "id": "5a140856-8002-4290-b1f8-85a08a0ec544",
   "metadata": {},
   "source": [
    "The left-handed symmetric vertical field of view perspective projection matrix is given by"
   ]
  },
  {
   "cell_type": "code",
   "execution_count": 23,
   "id": "32284c4a-37af-4278-9554-51da568dca6f",
   "metadata": {},
   "outputs": [
    {
     "data": {
      "text/latex": [
       "$\\displaystyle M^{Vulkan}_{per, fov, lh} = \\left[\\begin{matrix}\\frac{1}{aspect \\tan{\\left(\\frac{\\theta_{vfov}}{2} \\right)}} & 0 & 0 & 0\\\\0 & \\frac{1}{\\tan{\\left(\\frac{\\theta_{vfov}}{2} \\right)}} & 0 & 0\\\\0 & 0 & - \\frac{f}{f - n} & - \\frac{f n}{f - n}\\\\0 & 0 & -1 & 0\\end{matrix}\\right]$"
      ],
      "text/plain": [
       "Eq(M^{Vulkan}_{per, fov, lh}, Matrix([\n",
       "[1/(aspect*tan(theta_vfov/2)),                   0,          0,            0],\n",
       "[                           0, 1/tan(theta_vfov/2),          0,            0],\n",
       "[                           0,                   0, -f/(f - n), -f*n/(f - n)],\n",
       "[                           0,                   0,         -1,            0]]))"
      ]
     },
     "execution_count": 23,
     "metadata": {},
     "output_type": "execute_result"
    }
   ],
   "source": [
    "m_per_fov_vk_sym = sympy.Symbol(r'M^{Vulkan}_{per, fov, lh}')\n",
    "m_per_fov_vk = perspective_fov_lh_vulkan()\n",
    "equation_for_display(m_per_fov_vk_sym, m_per_fov_vk)"
   ]
  },
  {
   "cell_type": "markdown",
   "id": "5be80d72-b2e3-4957-84c9-44e529e79d29",
   "metadata": {},
   "source": [
    "The left-handed frustum orthographic projection matrix is given by"
   ]
  },
  {
   "cell_type": "code",
   "execution_count": 24,
   "id": "7f378271-38d1-4ef8-bffd-7d2779ba82f1",
   "metadata": {},
   "outputs": [
    {
     "data": {
      "text/latex": [
       "$\\displaystyle M^{Vulkan}_{orth, lh} = \\left[\\begin{matrix}\\frac{2}{l + r} & 0 & 0 & \\frac{l - r}{l + r}\\\\0 & \\frac{2}{b + t} & 0 & - \\frac{b - t}{b + t}\\\\0 & 0 & - \\frac{1}{f - n} & - \\frac{n}{f - n}\\\\0 & 0 & 0 & 1\\end{matrix}\\right]$"
      ],
      "text/plain": [
       "Eq(M^{Vulkan}_{orth, lh}, Matrix([\n",
       "[2/(l + r),         0,          0,  (l - r)/(l + r)],\n",
       "[        0, 2/(b + t),          0, -(b - t)/(b + t)],\n",
       "[        0,         0, -1/(f - n),       -n/(f - n)],\n",
       "[        0,         0,          0,                1]]))"
      ]
     },
     "execution_count": 24,
     "metadata": {},
     "output_type": "execute_result"
    }
   ],
   "source": [
    "m_orth_vk_sym = sympy.Symbol(r'M^{Vulkan}_{orth, lh}')\n",
    "m_orth_vk = orthographic_lh_vulkan()\n",
    "equation_for_display(m_orth_vk_sym, m_orth_vk)"
   ]
  },
  {
   "cell_type": "markdown",
   "id": "2b85d985-132f-4280-8069-eef424b8d4ee",
   "metadata": {},
   "source": [
    "## Vector Space Details For The Vulkan Right-Handed Orthornormal Frames"
   ]
  },
  {
   "cell_type": "markdown",
   "id": "339c8179-ab0c-44ac-871f-5eeab20f8835",
   "metadata": {},
   "source": [
    "The **view space** is a vector space $V_{\\text{view}} := (\\mathbb{R}^3, O_{\\text{view}}, B_{\\text{view}})$ with the following properties:\n",
    "\n",
    "* The underlying vector space is $\\mathbb{R}^3$.\n",
    "* The **origin** of the frame is $O_{\\text{view}} := \\begin{bmatrix} 0 & 0 & 0 \\end{bmatrix}^T$\n",
    "* The **basis** of the frame is $B_{\\text{view}} := \\{ \\hat{x}, -\\hat{y}, \\hat{z} \\}$ where \n",
    "$\\hat{x} := \\begin{bmatrix} 1 & 0 & 0 \\end{bmatrix}^T, \\quad \n",
    "\\hat{y} := \\begin{bmatrix} 0 & 1 & 0 \\end{bmatrix}^T, \\quad \n",
    "\\hat{z} := \\begin{bmatrix} 0 & 0 & 1 \\end{bmatrix}^T$. The basis vector $\\hat{x}$ points to the right, the basis vector $-\\hat{y}$ points down, and the basis vector $\\hat{z}$ points into the view volume.\n",
    "* The orthonormal frame $(O_{\\text{view}}, B_{\\text{view}})$ has a right-handed orientation.\n",
    "\n",
    "The **clip space** is a vector space $V_{\\text{clip}} := (\\mathbb{R}^3, O_{\\text{clip}}, B_{\\text{clip}})$ with the following properties:\n",
    "\n",
    "* The underlying vector space is $\\mathbb{R}^3$.\n",
    "* The **origin** of the frame is $O_{\\text{clip}} := \\begin{bmatrix} 0 & 0 & 0 \\end{bmatrix}^T$\n",
    "* The **basis** of the frame is $B_{\\text{clip}} := \\{ \\hat{x}, -\\hat{y}, \\hat{z} \\}$ where \n",
    "$\\hat{x} := \\begin{bmatrix} 1 & 0 & 0 \\end{bmatrix}^T, \\quad \n",
    "\\hat{y} := \\begin{bmatrix} 0 & 1 & 0 \\end{bmatrix}^T, \\quad \n",
    "\\hat{z} := \\begin{bmatrix} 0 & 0 & 1 \\end{bmatrix}^T$. The basis vector $\\hat{x}$ points to the right, the basis vector $-\\hat{y}$ points down, and the basis vector $\\hat{z}$ points into the view volume.\n",
    "* The orthonormal frame $(O_{\\text{clip}}, B_{\\text{clip}})$ has a right-handed orientation.\n",
    "\n",
    "The **canonical view volume** is the vector space $V_{\\text{cvv}} := (\\mathbb{R}^3, O_{\\text{cvv}}, B_{\\text{cvv}})$ with the following properties:\n",
    "\n",
    "* The underlying vector space is $\\mathbb{R}^3$.\n",
    "* The **origin** of the frame is $O_{\\text{cvv}} := \\begin{bmatrix} 0 & 0 & 0 \\end{bmatrix}^T$\n",
    "* The **basis** of the frame is $B_{\\text{cvv}} := \\{ \\hat{x}, -\\hat{y}, \\hat{z} \\}$ where \n",
    "$\\hat{x} := \\begin{bmatrix} 1 & 0 & 0 \\end{bmatrix}^T, \\quad \n",
    "\\hat{y} := \\begin{bmatrix} 0 & 1 & 0 \\end{bmatrix}^T, \\quad \n",
    "\\hat{z} := \\begin{bmatrix} 0 & 0 & 1 \\end{bmatrix}^T$. The basis vector $\\hat{x}$ points to the right, the basis vector $-\\hat{y}$ points down, and the basis vector $\\hat{z}$ points into the view volume.\n",
    "* The orthonormal frame $(O_{\\text{cvv}}, B_{\\text{cvv}})$ has a right-handed orientation.\n",
    "* The **view volume** is parametrized by $[-1, 1] \\times [-1, 1] \\times [0, 1]$.\n",
    "\n",
    "In particular, each vector space has the same orthonormal frame."
   ]
  },
  {
   "cell_type": "markdown",
   "id": "c6341635-81fa-42cf-9307-0333ca2018aa",
   "metadata": {},
   "source": [
    "## Derivation Of The Projection Matrices For The Right-Handed View Space Orthonormal Frame"
   ]
  },
  {
   "cell_type": "markdown",
   "id": "fe89398d-6d56-447e-8978-e71f5cd7ec05",
   "metadata": {},
   "source": [
    "In each case, we map the Vulkan view space coordinate system to canonical view space coordinate system, apply the canonical transformation, then apply the clip space coordinate system transformation to get to Vulkan's clip space. In the right-handed case, Vulkan's view space coordinate frame and clip space coordinate frame are identical, so the clip space transformation is the inverse of the view space one. This results in the desired projection matrices."
   ]
  },
  {
   "cell_type": "code",
   "execution_count": 25,
   "id": "44592f7a-b9a8-4a63-b9e9-0a0219d11096",
   "metadata": {},
   "outputs": [],
   "source": [
    "def perspective_rh_vulkan() -> sympy.Matrix:\n",
    "    l, r, b, t, n, f = sympy.symbols('l r b t n f')\n",
    "    frustum_bounds_vk = pm.FrustumBounds(l, r, b, t, n, f)\n",
    "    ndc_bounds_vk = pm.NDCBounds(-1, 1, -1, 1, 0, 1)\n",
    "    m_per_can_lh_lh = pm.perspective(frustum_bounds_vk, ndc_bounds_vk)\n",
    "\n",
    "    x_rh_lh = change_of_orientation_rh_to_lh()\n",
    "    x_lh_rh = change_of_orientation_lh_to_rh()\n",
    "    c_vk = rotation_x(sympy.pi)\n",
    "    c_vk_inv = c_vk.inv()\n",
    "    \n",
    "    m_per_rh_rh = (x_lh_rh * c_vk_inv) * m_per_can_lh_lh * (c_vk * x_rh_lh)\n",
    "\n",
    "    return m_per_rh_rh\n",
    "\n",
    "def perspective_fov_rh_vulkan() -> sympy.Matrix:\n",
    "    aspect, theta_vfov, n ,f = sympy.symbols('aspect theta_vfov n f')\n",
    "    frustum_fov_bounds_vk = pm.FrustumFovBounds(aspect, theta_vfov, n, f)\n",
    "    ndc_bounds_vk = pm.NDCBounds(-1, 1, -1, 1, 0, 1)\n",
    "    m_per_fov_can_lh_lh = pm.perspective_fov(frustum_fov_bounds_vk, ndc_bounds_vk)\n",
    "\n",
    "    x_rh_lh = change_of_orientation_rh_to_lh()\n",
    "    x_lh_rh = change_of_orientation_lh_to_rh()\n",
    "    c_vk = rotation_x(sympy.pi)\n",
    "    c_vk_inv = c_vk.inv()\n",
    "    \n",
    "    m_per_fov_rh_rh = (x_lh_rh * c_vk_inv) * m_per_fov_can_lh_lh * (c_vk * x_rh_lh)\n",
    "\n",
    "    return m_per_fov_rh_rh\n",
    "\n",
    "def orthographic_rh_vulkan() -> sympy.Matrix:\n",
    "    l, r, b, t, n, f = sympy.symbols('l r b t n f')\n",
    "    frustum_bounds_vk = pm.FrustumBounds(l, r, b, t, n, f)\n",
    "    ndc_bounds_vk = pm.NDCBounds(-1, 1, -1, 1, 0, 1)\n",
    "    m_orth_can_lh_lh = pm.orthographic(frustum_bounds_vk, ndc_bounds_vk)\n",
    "\n",
    "    x_rh_lh = change_of_orientation_rh_to_lh()\n",
    "    x_lh_rh = change_of_orientation_lh_to_rh()\n",
    "    c_vk = rotation_x(sympy.pi)\n",
    "    c_vk_inv = c_vk.inv()\n",
    "    \n",
    "    m_orth_rh_rh = (x_lh_rh * c_vk_inv) * m_orth_can_lh_lh * (c_vk * x_rh_lh)\n",
    "\n",
    "    return m_orth_rh_rh"
   ]
  },
  {
   "cell_type": "markdown",
   "id": "342649e2-0664-46a3-9079-f308116cdd79",
   "metadata": {},
   "source": [
    "The right-handed frustum perspective projection matrix is given by"
   ]
  },
  {
   "cell_type": "code",
   "execution_count": 26,
   "id": "92482764-e1ce-4782-b7e9-3ecb3f79e241",
   "metadata": {},
   "outputs": [
    {
     "data": {
      "text/latex": [
       "$\\displaystyle M^{Vulkan}_{per, rh} = \\left[\\begin{matrix}\\frac{2 n}{l + r} & 0 & \\frac{l - r}{l + r} & 0\\\\0 & \\frac{2 n}{b + t} & - \\frac{b - t}{b + t} & 0\\\\0 & 0 & \\frac{f}{f - n} & - \\frac{f n}{f - n}\\\\0 & 0 & 1 & 0\\end{matrix}\\right]$"
      ],
      "text/plain": [
       "Eq(M^{Vulkan}_{per, rh}, Matrix([\n",
       "[2*n/(l + r),           0,  (l - r)/(l + r),            0],\n",
       "[          0, 2*n/(b + t), -(b - t)/(b + t),            0],\n",
       "[          0,           0,        f/(f - n), -f*n/(f - n)],\n",
       "[          0,           0,                1,            0]]))"
      ]
     },
     "execution_count": 26,
     "metadata": {},
     "output_type": "execute_result"
    }
   ],
   "source": [
    "m_per_vk_sym = sympy.Symbol(r'M^{Vulkan}_{per, rh}')\n",
    "m_per_vk = perspective_rh_vulkan()\n",
    "equation_for_display(m_per_vk_sym, m_per_vk)"
   ]
  },
  {
   "cell_type": "markdown",
   "id": "ddba349c-d609-45c6-9149-7aa7c07be217",
   "metadata": {},
   "source": [
    "The right-handed symmetric vertical field of view perspective projection matrix is given by"
   ]
  },
  {
   "cell_type": "code",
   "execution_count": 27,
   "id": "5d7fa418-c193-494c-9c85-92f948201df7",
   "metadata": {},
   "outputs": [
    {
     "data": {
      "text/latex": [
       "$\\displaystyle M^{Vulkan}_{per, fov, rh} = \\left[\\begin{matrix}\\frac{1}{aspect \\tan{\\left(\\frac{\\theta_{vfov}}{2} \\right)}} & 0 & 0 & 0\\\\0 & \\frac{1}{\\tan{\\left(\\frac{\\theta_{vfov}}{2} \\right)}} & 0 & 0\\\\0 & 0 & \\frac{f}{f - n} & - \\frac{f n}{f - n}\\\\0 & 0 & 1 & 0\\end{matrix}\\right]$"
      ],
      "text/plain": [
       "Eq(M^{Vulkan}_{per, fov, rh}, Matrix([\n",
       "[1/(aspect*tan(theta_vfov/2)),                   0,         0,            0],\n",
       "[                           0, 1/tan(theta_vfov/2),         0,            0],\n",
       "[                           0,                   0, f/(f - n), -f*n/(f - n)],\n",
       "[                           0,                   0,         1,            0]]))"
      ]
     },
     "execution_count": 27,
     "metadata": {},
     "output_type": "execute_result"
    }
   ],
   "source": [
    "m_per_fov_vk_sym = sympy.Symbol(r'M^{Vulkan}_{per, fov, rh}')\n",
    "m_per_fov_vk = perspective_fov_rh_vulkan()\n",
    "equation_for_display(m_per_fov_vk_sym, m_per_fov_vk)"
   ]
  },
  {
   "cell_type": "markdown",
   "id": "f94eb8a9-273a-442b-bfa1-1cbfcecfa24d",
   "metadata": {},
   "source": [
    "The right-handed frustum orthographic projection matrix is given by"
   ]
  },
  {
   "cell_type": "code",
   "execution_count": 28,
   "id": "4e7d7c57-c7c4-4c00-85a4-8d6935527756",
   "metadata": {},
   "outputs": [
    {
     "data": {
      "text/latex": [
       "$\\displaystyle M^{Vulkan}_{orth, rh} = \\left[\\begin{matrix}\\frac{2}{l + r} & 0 & 0 & \\frac{l - r}{l + r}\\\\0 & \\frac{2}{b + t} & 0 & - \\frac{b - t}{b + t}\\\\0 & 0 & \\frac{1}{f - n} & - \\frac{n}{f - n}\\\\0 & 0 & 0 & 1\\end{matrix}\\right]$"
      ],
      "text/plain": [
       "Eq(M^{Vulkan}_{orth, rh}, Matrix([\n",
       "[2/(l + r),         0,         0,  (l - r)/(l + r)],\n",
       "[        0, 2/(b + t),         0, -(b - t)/(b + t)],\n",
       "[        0,         0, 1/(f - n),       -n/(f - n)],\n",
       "[        0,         0,         0,                1]]))"
      ]
     },
     "execution_count": 28,
     "metadata": {},
     "output_type": "execute_result"
    }
   ],
   "source": [
    "m_orth_vk_sym = sympy.Symbol(r'M^{Vulkan}_{orth, rh}')\n",
    "m_orth_vk = orthographic_rh_vulkan()\n",
    "equation_for_display(m_orth_vk_sym, m_orth_vk)"
   ]
  },
  {
   "cell_type": "code",
   "execution_count": null,
   "id": "5a65216c-6e4b-4207-b3ae-c3ff217337d8",
   "metadata": {},
   "outputs": [],
   "source": []
  }
 ],
 "metadata": {
  "kernelspec": {
   "display_name": "Python 3 (ipykernel)",
   "language": "python",
   "name": "python3"
  },
  "language_info": {
   "codemirror_mode": {
    "name": "ipython",
    "version": 3
   },
   "file_extension": ".py",
   "mimetype": "text/x-python",
   "name": "python",
   "nbconvert_exporter": "python",
   "pygments_lexer": "ipython3",
   "version": "3.12.5"
  }
 },
 "nbformat": 4,
 "nbformat_minor": 5
}
