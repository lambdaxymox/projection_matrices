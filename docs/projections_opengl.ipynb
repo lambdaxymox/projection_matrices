{
 "cells": [
  {
   "cell_type": "markdown",
   "id": "16043131-0fc4-4a74-910d-8959b7610553",
   "metadata": {},
   "source": [
    "# OpenGL"
   ]
  },
  {
   "cell_type": "markdown",
   "id": "5f3e3443-2a0a-4bdd-91b4-6af43c208cfe",
   "metadata": {},
   "source": [
    "In this section we derive the projection matrices for OpenGL. The basic process is the following.\n",
    "\n",
    "1. Define the view space orthonormal frame.\n",
    "2. Define the clip space orthonormal frame compatible with the target canonical view volume. The target clip space should have the same orthonormal frame as the target canonical view volume.\n",
    "3. Define the target canonical view volume's view volume.\n",
    "4. Define the frustum parameters for the view space viewing frustum.\n",
    "5. Using the frustum parameters and the canonical view volume parameters, construct a canonical version of the projection of interest.\n",
    "6. Construct a coordinate transformation from the view space orthonormal frame to the canonincal view space orthonormal frame.\n",
    "7. Construct a coordinate transformation from the canonical clip space to the target clip space.\n",
    "8. Multiply the resulting matrices together in the right order to get the final result.\n",
    "\n",
    "We now proceed to do this for OpenGL's left-handed and right-handed view space coordinate frames."
   ]
  },
  {
   "cell_type": "code",
   "execution_count": 1,
   "id": "4dc61278-f3cf-4f45-883d-e320d1553a55",
   "metadata": {},
   "outputs": [],
   "source": [
    "import sys\n",
    "import os\n",
    "\n",
    "sys.path.insert(0, os.path.abspath('../projection_matrices'))"
   ]
  },
  {
   "cell_type": "code",
   "execution_count": 2,
   "id": "df9c7da6-050f-49e5-b73b-008940325e34",
   "metadata": {},
   "outputs": [],
   "source": [
    "import sympy\n",
    "import projection_matrices as pm"
   ]
  },
  {
   "cell_type": "code",
   "execution_count": 3,
   "id": "92890617-7d7e-4957-8b35-2d4ae64a7120",
   "metadata": {},
   "outputs": [],
   "source": [
    "def equation_for_display(lhs, rhs) -> sympy.Eq:\n",
    "    expr_lhs = sympy.Symbol('expr_lhs')\n",
    "    expr_rhs = sympy.Symbol('expr_rhs')\n",
    "    expr_lhs = sympy.UnevaluatedExpr(lhs)\n",
    "    expr_rhs = sympy.UnevaluatedExpr(rhs)\n",
    "    \n",
    "    return sympy.Eq(expr_lhs, expr_rhs)"
   ]
  },
  {
   "cell_type": "code",
   "execution_count": 4,
   "id": "e63a20ce-9ab2-43e4-a158-72b39be7140b",
   "metadata": {},
   "outputs": [],
   "source": [
    "def change_of_orientation_lh_to_rh() -> sympy.Matrix:\n",
    "    return sympy.Matrix([\n",
    "        [1, 0,  0, 0],\n",
    "        [0, 1,  0, 0],\n",
    "        [0, 0, -1, 0],\n",
    "        [0, 0,  0, 1]\n",
    "    ])\n",
    "\n",
    "def change_of_orientation_rh_to_lh() -> sympy.Matrix:\n",
    "    return sympy.Matrix([\n",
    "        [1, 0,  0, 0],\n",
    "        [0, 1,  0, 0],\n",
    "        [0, 0, -1, 0],\n",
    "        [0, 0,  0, 1]\n",
    "    ])\n",
    "\n",
    "def change_of_orientation_lh_to_lh() -> sympy.Matrix:\n",
    "    return sympy.Matrix([\n",
    "        [1, 0,  0, 0],\n",
    "        [0, 1,  0, 0],\n",
    "        [0, 0,  1, 0],\n",
    "        [0, 0,  0, 1]\n",
    "    ])\n",
    "\n",
    "def change_of_orientation_rh_to_rh() -> sympy.Matrix:\n",
    "    return sympy.Matrix([\n",
    "        [1, 0,  0, 0],\n",
    "        [0, 1,  0, 0],\n",
    "        [0, 0,  1, 0],\n",
    "        [0, 0,  0, 1]\n",
    "    ])"
   ]
  },
  {
   "cell_type": "markdown",
   "id": "89b27f32-760d-407e-8889-6c1645cbe0ee",
   "metadata": {},
   "source": [
    "## Vector Space Details For The OpenGL Left-Handed Orthornormal Frames"
   ]
  },
  {
   "cell_type": "markdown",
   "id": "c073386e-34d9-4bf6-8c8c-7074d4647053",
   "metadata": {},
   "source": [
    "The **view space** is a vector space $V_{\\text{view}} := (\\mathbb{R}^3, O_{\\text{view}}, B_{\\text{view}})$ with the following properties:\n",
    "\n",
    "* The underlying vector space is $\\mathbb{R}^3$.\n",
    "* The **origin** of the frame is $O_{\\text{view}} := \\begin{bmatrix} 0 & 0 & 0 \\end{bmatrix}^T$\n",
    "* The **basis** of the frame is $B_{\\text{view}} := \\{ \\hat{x}, \\hat{y}, -\\hat{z} \\}$ where \n",
    "$\\hat{x} := \\begin{bmatrix} 1 & 0 & 0 \\end{bmatrix}^T, \\quad \n",
    "\\hat{y} := \\begin{bmatrix} 0 & 1 & 0 \\end{bmatrix}^T, \\quad \n",
    "\\hat{z} := \\begin{bmatrix} 0 & 0 & 1 \\end{bmatrix}^T$. The basis vector $\\hat{x}$ points to the right, the basis vector $\\hat{y}$ points up, and the basis vector $-\\hat{z}$ points into the view volume.\n",
    "* The orthonormal frame $(O_{\\text{view}}, B_{\\text{view}})$ has a left-handed orientation.\n",
    "\n",
    "The **clip space** is a vector space $V_{\\text{clip}} := (\\mathbb{R}^3, O_{\\text{clip}}, B_{\\text{clip}})$ with the following properties:\n",
    "\n",
    "* The underlying vector space is $\\mathbb{R}^3$.\n",
    "* The **origin** of the frame is $O_{\\text{clip}} := \\begin{bmatrix} 0 & 0 & 0 \\end{bmatrix}^T$\n",
    "* The **basis** of the frame is $B_{\\text{clip}} := \\{ \\hat{x}, \\hat{y}, -\\hat{z} \\}$ where \n",
    "$\\hat{x} := \\begin{bmatrix} 1 & 0 & 0 \\end{bmatrix}^T, \\quad \n",
    "\\hat{y} := \\begin{bmatrix} 0 & 1 & 0 \\end{bmatrix}^T, \\quad \n",
    "\\hat{z} := \\begin{bmatrix} 0 & 0 & 1 \\end{bmatrix}^T$. The basis vector $\\hat{x}$ points to the right, the basis vector $\\hat{y}$ points up, and the basis vector $-\\hat{z}$ points into the view volume.\n",
    "* The orthonormal frame $(O_{\\text{clip}}, B_{\\text{clip}})$ has a left-handed orientation.\n",
    "\n",
    "The **canonical view volume** is the vector space $V_{\\text{cvv}} := (\\mathbb{R}^3, O_{\\text{cvv}}, B_{\\text{cvv}})$ with the following properties:\n",
    "\n",
    "* The underlying vector space is $\\mathbb{R}^3$.\n",
    "* The **origin** of the frame is $O_{\\text{cvv}} := \\begin{bmatrix} 0 & 0 & 0 \\end{bmatrix}^T$\n",
    "* The **basis** of the frame is $B_{\\text{cvv}} := \\{ \\hat{x}, \\hat{y}, -\\hat{z} \\}$ where \n",
    "$\\hat{x} := \\begin{bmatrix} 1 & 0 & 0 \\end{bmatrix}^T, \\quad \n",
    "\\hat{y} := \\begin{bmatrix} 0 & 1 & 0 \\end{bmatrix}^T, \\quad \n",
    "\\hat{z} := \\begin{bmatrix} 0 & 0 & 1 \\end{bmatrix}^T$. The basis vector $\\hat{x}$ points to the right, the basis vector $\\hat{y}$ points up, and the basis vector $-\\hat{z}$ points into the view volume.\n",
    "* The orthonormal frame $(O_{\\text{cvv}}, B_{\\text{cvv}})$ has a right-handed orientation.\n",
    "* The **view volume** is parametrized by $[-1, 1] \\times [-1, 1] \\times [-1, 1]$."
   ]
  },
  {
   "cell_type": "markdown",
   "id": "dc4b68f3-25c5-4a42-b10d-27c60bd2f5c1",
   "metadata": {},
   "source": [
    "## Derivation Of The Projection Matrices For The Left-Handed View Space Orthonormal Frame"
   ]
  },
  {
   "cell_type": "markdown",
   "id": "62a0a6cd-95cf-468f-bf7e-111f59143dd6",
   "metadata": {},
   "source": [
    "In each case, we map the OpenGL view space coordinate system to canonical view space coordinate system, apply the canonical transformation, then apply the clip space coordinate system transformation to get to OpenGL's clip space. In the left-handed case, we map OpenGL's view space coordinate frame to the canonical view space coordinate frame with an identity map. We map the canonical clip space coordinate frame to OpenGL's clip space frame using another identity map. This results in the desired projection matrices."
   ]
  },
  {
   "cell_type": "code",
   "execution_count": 5,
   "id": "5563a858-9c2d-412c-9e7f-19c9bbd49387",
   "metadata": {},
   "outputs": [],
   "source": [
    "def perspective_lh_opengl() -> sympy.Matrix:\n",
    "    l, r, b, t, n, f = sympy.symbols('l r b t n f')\n",
    "    frustum_bounds = pm.FrustumBounds(l, r, b, t, n, f)\n",
    "    ndc_bounds = pm.NDCBounds(-1, 1, -1, 1, -1, 1)\n",
    "    m_per_can_lh_lh = pm.perspective(frustum_bounds, ndc_bounds)\n",
    "\n",
    "    x_lh_lh = sympy.Matrix.eye(4)\n",
    "    c_opengl = sympy.Matrix.eye(4)\n",
    "    c_opengl_inv = sympy.Matrix.eye(4)\n",
    "\n",
    "    m_per_lh_lh = (x_lh_lh * c_opengl_inv) * m_per_can_lh_lh * (c_opengl * x_lh_lh)\n",
    "    \n",
    "    return m_per_lh_lh\n",
    "\n",
    "def perspective_fov_lh_opengl():\n",
    "    aspect, theta_vfov, n, f = sympy.symbols('aspect theta_vfov n f')\n",
    "    frustum_fov_bounds = pm.FrustumFovBounds(aspect, theta_vfov, n, f)\n",
    "    ndc_bounds = pm.NDCBounds(-1, 1, -1, 1, -1, 1)\n",
    "    m_per_fov_can_lh_lh = pm.perspective_fov(frustum_fov_bounds, ndc_bounds)\n",
    "    \n",
    "    x_lh_lh = sympy.Matrix.eye(4)\n",
    "    c_opengl = sympy.Matrix.eye(4)\n",
    "    c_opengl_inv = sympy.Matrix.eye(4)\n",
    "\n",
    "    m_per_fov_lh_lh = (x_lh_lh * c_opengl_inv) * m_per_fov_can_lh_lh * (c_opengl * x_lh_lh)\n",
    "\n",
    "    return m_per_fov_lh_lh\n",
    "\n",
    "def orthographic_lh_opengl() -> sympy.Matrix:\n",
    "    l, r, b, t, n, f = sympy.symbols('l r b t n f')\n",
    "    frustum_bounds = pm.FrustumBounds(l, r, b, t, n, f)\n",
    "    ndc_bounds = pm.NDCBounds(-1, 1, -1, 1, -1, 1)\n",
    "    m_orth_can_lh_lh = pm.orthographic(frustum_bounds, ndc_bounds)\n",
    "\n",
    "    x_lh_lh = sympy.Matrix.eye(4)\n",
    "    c_opengl = sympy.Matrix.eye(4)\n",
    "    c_opengl_inv = sympy.Matrix.eye(4)\n",
    "    \n",
    "    m_orth_lh_lh = (x_lh_lh * c_opengl_inv) * m_orth_can_lh_lh * (c_opengl * x_lh_lh)\n",
    "\n",
    "    return m_orth_lh_lh"
   ]
  },
  {
   "cell_type": "markdown",
   "id": "f84d2627-5fcd-4d4d-863a-dfd46a99e381",
   "metadata": {},
   "source": [
    "The left-handed frustum perspective projection matrix is given by"
   ]
  },
  {
   "cell_type": "code",
   "execution_count": 6,
   "id": "0b2f8a36-e108-4adc-83eb-f3607a42de32",
   "metadata": {},
   "outputs": [
    {
     "data": {
      "text/latex": [
       "$\\displaystyle M^{OpenGL}_{per, lh} = \\left[\\begin{matrix}\\frac{2 n}{l + r} & 0 & \\frac{l - r}{l + r} & 0\\\\0 & \\frac{2 n}{b + t} & \\frac{b - t}{b + t} & 0\\\\0 & 0 & \\frac{f + n}{f - n} & - \\frac{2 f n}{f - n}\\\\0 & 0 & 1 & 0\\end{matrix}\\right]$"
      ],
      "text/plain": [
       "Eq(M^{OpenGL}_{per, lh}, Matrix([\n",
       "[2*n/(l + r),           0, (l - r)/(l + r),              0],\n",
       "[          0, 2*n/(b + t), (b - t)/(b + t),              0],\n",
       "[          0,           0, (f + n)/(f - n), -2*f*n/(f - n)],\n",
       "[          0,           0,               1,              0]]))"
      ]
     },
     "execution_count": 6,
     "metadata": {},
     "output_type": "execute_result"
    }
   ],
   "source": [
    "m_per_opengl_lh_sym = sympy.Symbol(r'M^{OpenGL}_{per, lh}')\n",
    "m_per_opengl_lh = perspective_lh_opengl()\n",
    "equation_for_display(m_per_opengl_lh_sym, m_per_opengl_lh)"
   ]
  },
  {
   "cell_type": "markdown",
   "id": "633d7a67-9052-4240-b532-a535c925b77b",
   "metadata": {},
   "source": [
    "The left-handed symmetric vertical field of view perspective projection matrix is given by"
   ]
  },
  {
   "cell_type": "code",
   "execution_count": 7,
   "id": "b2425b45-9dee-43d6-bbfc-f0b93278e5bd",
   "metadata": {},
   "outputs": [
    {
     "data": {
      "text/latex": [
       "$\\displaystyle M^{OpenGL}_{per, vfov, lh} = \\left[\\begin{matrix}\\frac{1}{aspect \\tan{\\left(\\frac{\\theta_{vfov}}{2} \\right)}} & 0 & 0 & 0\\\\0 & \\frac{1}{\\tan{\\left(\\frac{\\theta_{vfov}}{2} \\right)}} & 0 & 0\\\\0 & 0 & \\frac{f + n}{f - n} & - \\frac{2 f n}{f - n}\\\\0 & 0 & 1 & 0\\end{matrix}\\right]$"
      ],
      "text/plain": [
       "Eq(M^{OpenGL}_{per, vfov, lh}, Matrix([\n",
       "[1/(aspect*tan(theta_vfov/2)),                   0,               0,              0],\n",
       "[                           0, 1/tan(theta_vfov/2),               0,              0],\n",
       "[                           0,                   0, (f + n)/(f - n), -2*f*n/(f - n)],\n",
       "[                           0,                   0,               1,              0]]))"
      ]
     },
     "execution_count": 7,
     "metadata": {},
     "output_type": "execute_result"
    }
   ],
   "source": [
    "m_per_fov_opengl_lh_sym = sympy.Symbol(r'M^{OpenGL}_{per, vfov, lh}')\n",
    "m_per_fov_opengl_lh = perspective_fov_lh_opengl()\n",
    "equation_for_display(m_per_fov_opengl_lh_sym, m_per_fov_opengl_lh)"
   ]
  },
  {
   "cell_type": "markdown",
   "id": "f2a08c5d-b7fe-4137-9c62-49fc6c755b93",
   "metadata": {},
   "source": [
    "The left-handed frustum orthographic projection matrix is given by"
   ]
  },
  {
   "cell_type": "code",
   "execution_count": 8,
   "id": "995864ae-5ae2-4b91-aefb-d662dfb0734a",
   "metadata": {},
   "outputs": [
    {
     "data": {
      "text/latex": [
       "$\\displaystyle M^{OpenGL}_{orth, lh} = \\left[\\begin{matrix}\\frac{2}{l + r} & 0 & 0 & \\frac{l - r}{l + r}\\\\0 & \\frac{2}{b + t} & 0 & \\frac{b - t}{b + t}\\\\0 & 0 & \\frac{2}{f - n} & \\frac{- f - n}{f - n}\\\\0 & 0 & 0 & 1\\end{matrix}\\right]$"
      ],
      "text/plain": [
       "Eq(M^{OpenGL}_{orth, lh}, Matrix([\n",
       "[2/(l + r),         0,         0,  (l - r)/(l + r)],\n",
       "[        0, 2/(b + t),         0,  (b - t)/(b + t)],\n",
       "[        0,         0, 2/(f - n), (-f - n)/(f - n)],\n",
       "[        0,         0,         0,                1]]))"
      ]
     },
     "execution_count": 8,
     "metadata": {},
     "output_type": "execute_result"
    }
   ],
   "source": [
    "m_orth_opengl_lh_sym = sympy.Symbol(r'M^{OpenGL}_{orth, lh}')\n",
    "m_orth_opengl_lh = orthographic_lh_opengl()\n",
    "equation_for_display(m_orth_opengl_lh_sym, m_orth_opengl_lh)"
   ]
  },
  {
   "cell_type": "markdown",
   "id": "8e509009-1565-4235-badb-ba530e2380e3",
   "metadata": {},
   "source": [
    "## Vector Space Details For The OpenGL Right-Handed Orthornormal Frames"
   ]
  },
  {
   "cell_type": "markdown",
   "id": "b9f4f6ee-9ea9-427d-9203-dc8c4e024493",
   "metadata": {},
   "source": [
    "The **view space** is a vector space $V_{\\text{view}} := (\\mathbb{R}^3, O_{\\text{view}}, B_{\\text{view}})$ with the following properties:\n",
    "\n",
    "* The underlying vector space is $\\mathbb{R}^3$.\n",
    "* The **origin** of the frame is $O_{\\text{view}} := \\begin{bmatrix} 0 & 0 & 0 \\end{bmatrix}^T$\n",
    "* The **basis** of the frame is $B_{\\text{view}} := \\{ \\hat{x}, \\hat{y}, \\hat{z} \\}$ where \n",
    "$\\hat{x} := \\begin{bmatrix} 1 & 0 & 0 \\end{bmatrix}^T, \\quad \n",
    "\\hat{y} := \\begin{bmatrix} 0 & 1 & 0 \\end{bmatrix}^T, \\quad \n",
    "\\hat{z} := \\begin{bmatrix} 0 & 0 & 1 \\end{bmatrix}^T$. The basis vector $\\hat{x}$ points to the right, the basis vector $\\hat{y}$ points up, and the basis vector $\\hat{z}$ points towards the view away from the view volume.\n",
    "* The orthonormal frame $(O_{\\text{view}}, B_{\\text{view}})$ has a right-handed orientation.\n",
    "\n",
    "The **clip space** is a vector space $V_{\\text{clip}} := (\\mathbb{R}^3, O_{\\text{clip}}, B_{\\text{clip}})$ with the following properties:\n",
    "\n",
    "* The underlying vector space is $\\mathbb{R}^3$.\n",
    "* The **origin** of the frame is $O_{\\text{clip}} := \\begin{bmatrix} 0 & 0 & 0 \\end{bmatrix}^T$\n",
    "* The **basis** of the frame is $B_{\\text{clip}} := \\{ \\hat{x}, \\hat{y}, -\\hat{z} \\}$ where \n",
    "$\\hat{x} := \\begin{bmatrix} 1 & 0 & 0 \\end{bmatrix}^T, \\quad \n",
    "\\hat{y} := \\begin{bmatrix} 0 & 1 & 0 \\end{bmatrix}^T, \\quad \n",
    "\\hat{z} := \\begin{bmatrix} 0 & 0 & 1 \\end{bmatrix}^T$. The basis vector $\\hat{x}$ points to the right, the basis vector $\\hat{y}$ points up, and the basis vector $-\\hat{z}$ points into the view volume.\n",
    "* The orthonormal frame $(O_{\\text{clip}}, B_{\\text{clip}})$ has a left-handed orientation.\n",
    "\n",
    "The **canonical view volume** is the vector space $V_{\\text{cvv}} := (\\mathbb{R}^3, O_{\\text{cvv}}, B_{\\text{cvv}})$ with the following properties:\n",
    "\n",
    "* The underlying vector space is $\\mathbb{R}^3$.\n",
    "* The **origin** of the frame is $O_{\\text{cvv}} := \\begin{bmatrix} 0 & 0 & 0 \\end{bmatrix}^T$\n",
    "* The **basis** of the frame is $B_{\\text{cvv}} := \\{ \\hat{x}, \\hat{y}, -\\hat{z} \\}$ where \n",
    "$\\hat{x} := \\begin{bmatrix} 1 & 0 & 0 \\end{bmatrix}^T, \\quad \n",
    "\\hat{y} := \\begin{bmatrix} 0 & 1 & 0 \\end{bmatrix}^T, \\quad \n",
    "\\hat{z} := \\begin{bmatrix} 0 & 0 & 1 \\end{bmatrix}^T$. The basis vector $\\hat{x}$ points to the right, the basis vector $\\hat{y}$ points up, and the basis vector $-\\hat{z}$ points into the view volume.\n",
    "* The orthonormal frame $(O_{\\text{cvv}}, B_{\\text{cvv}})$ has a left-handed orientation.\n",
    "* The **view volume** is parametrized by $[-1, 1] \\times [-1, 1] \\times [-1, 1]$."
   ]
  },
  {
   "cell_type": "markdown",
   "id": "09886e11-105f-4668-a383-862ecdb06030",
   "metadata": {},
   "source": [
    "## Derivation Of The Projection Matrices For The Right-Handed View Space Orthonormal Frame"
   ]
  },
  {
   "cell_type": "markdown",
   "id": "a0fb68c8-36a7-47c5-a923-02aa896af773",
   "metadata": {},
   "source": [
    "In each case, we map the OpenGL view space coordinate system to the canonical view space coordinate system, apply the canonical transformation, then apply the clip space coordinate system transformation to get to OpenGL's clip space. In the right-handed case, OpenGL's view space coordinate frame and clip space coordinate frame are opposite orientations, so the clip space transformation is a change of orientation matrix. This results in the desired projection matrices."
   ]
  },
  {
   "cell_type": "code",
   "execution_count": 9,
   "id": "24500f04-c33c-4614-a62e-ef18e4752723",
   "metadata": {},
   "outputs": [],
   "source": [
    "def perspective_rh_opengl() -> sympy.Matrix:\n",
    "    l, r, b, t, n, f = sympy.symbols('l r b t n f')    \n",
    "    frustum_bounds = pm.FrustumBounds(l, r, b, t, n, f)\n",
    "    ndc_bounds = pm.NDCBounds(-1, 1, -1, 1, -1, 1)\n",
    "    m_per_can_lh_lh = pm.perspective(frustum_bounds, ndc_bounds)\n",
    "\n",
    "    x_lh_lh = sympy.Matrix.eye(4)\n",
    "    x_rh_lh = change_of_orientation_rh_to_lh()\n",
    "    c_opengl = sympy.Matrix.eye(4)\n",
    "    c_opengl_inv = sympy.Matrix.eye(4)\n",
    "\n",
    "    m_per_rh_lh = (x_lh_lh * c_opengl_inv) * m_per_can_lh_lh * (c_opengl * x_rh_lh)\n",
    "\n",
    "    return m_per_rh_lh\n",
    "\n",
    "def perspective_fov_rh_opengl() -> sympy.Matrix:\n",
    "    aspect, theta_vfov, n, f = sympy.symbols('aspect theta_vfov n f')\n",
    "    frustum_fov_bounds = pm.FrustumFovBounds(aspect, theta_vfov, n, f)\n",
    "    ndc_bounds = pm.NDCBounds(-1, 1, -1, 1, -1, 1)\n",
    "    m_per_fov_can_lh_lh = pm.perspective_fov(frustum_fov_bounds, ndc_bounds)\n",
    "    \n",
    "    x_lh_lh = sympy.Matrix.eye(4)\n",
    "    x_rh_lh = change_of_orientation_rh_to_lh()\n",
    "    c_opengl = sympy.Matrix.eye(4)\n",
    "    c_opengl_inv = sympy.Matrix.eye(4)\n",
    "    \n",
    "    m_per_fov_rh_lh = (x_lh_lh * c_opengl_inv) * m_per_fov_can_lh_lh * (c_opengl * x_rh_lh)\n",
    "\n",
    "    return m_per_fov_rh_lh\n",
    "\n",
    "def orthographic_rh_opengl() -> sympy.Matrix:\n",
    "    l, r, b, t, n, f = sympy.symbols('l r b t n f')\n",
    "    frustum_bounds = pm.FrustumBounds(l, r, b, t, n, f)\n",
    "    ndc_bounds = pm.NDCBounds(-1, 1, -1, 1, -1, 1)\n",
    "    m_orth_can_lh_lh = pm.orthographic(frustum_bounds, ndc_bounds)\n",
    "\n",
    "    x_lh_lh = sympy.Matrix.eye(4)\n",
    "    x_rh_lh = change_of_orientation_rh_to_lh()\n",
    "    c_opengl = sympy.Matrix.eye(4)\n",
    "    c_opengl_inv = sympy.Matrix.eye(4)\n",
    "    \n",
    "    m_orth_rh_lh = (x_lh_lh * c_opengl_inv) * m_orth_can_lh_lh * (c_opengl * x_rh_lh)\n",
    "\n",
    "    return m_orth_rh_lh"
   ]
  },
  {
   "cell_type": "markdown",
   "id": "bf7b7c50-cf55-4de1-9e0a-c49eaee628a5",
   "metadata": {},
   "source": [
    "The right-handed frustum perspective projection matrix is given by"
   ]
  },
  {
   "cell_type": "code",
   "execution_count": 10,
   "id": "e01e3bfe-3d67-4236-8240-34031d036c76",
   "metadata": {},
   "outputs": [
    {
     "data": {
      "text/latex": [
       "$\\displaystyle M^{OpenGL}_{per, rh} = \\left[\\begin{matrix}\\frac{2 n}{l + r} & 0 & - \\frac{l - r}{l + r} & 0\\\\0 & \\frac{2 n}{b + t} & - \\frac{b - t}{b + t} & 0\\\\0 & 0 & - \\frac{f + n}{f - n} & - \\frac{2 f n}{f - n}\\\\0 & 0 & -1 & 0\\end{matrix}\\right]$"
      ],
      "text/plain": [
       "Eq(M^{OpenGL}_{per, rh}, Matrix([\n",
       "[2*n/(l + r),           0, -(l - r)/(l + r),              0],\n",
       "[          0, 2*n/(b + t), -(b - t)/(b + t),              0],\n",
       "[          0,           0, -(f + n)/(f - n), -2*f*n/(f - n)],\n",
       "[          0,           0,               -1,              0]]))"
      ]
     },
     "execution_count": 10,
     "metadata": {},
     "output_type": "execute_result"
    }
   ],
   "source": [
    "m_per_opengl_rh_sym = sympy.Symbol(r'M^{OpenGL}_{per, rh}')\n",
    "m_per_opengl_rh = perspective_rh_opengl()\n",
    "equation_for_display(m_per_opengl_rh_sym, m_per_opengl_rh)"
   ]
  },
  {
   "cell_type": "markdown",
   "id": "d48a34b7-c9ff-4951-903d-302aecbc31d2",
   "metadata": {},
   "source": [
    "The right-handed symmetric vertical field of view perspective projection matrix is given by"
   ]
  },
  {
   "cell_type": "code",
   "execution_count": 13,
   "id": "510680a0-38a9-438a-b612-72528abb1ced",
   "metadata": {},
   "outputs": [
    {
     "data": {
      "text/latex": [
       "$\\displaystyle M^{OpenGL}_{per, fov, rh} = \\left[\\begin{matrix}\\frac{1}{aspect \\tan{\\left(\\frac{\\theta_{vfov}}{2} \\right)}} & 0 & 0 & 0\\\\0 & \\frac{1}{\\tan{\\left(\\frac{\\theta_{vfov}}{2} \\right)}} & 0 & 0\\\\0 & 0 & - \\frac{f + n}{f - n} & - \\frac{2 f n}{f - n}\\\\0 & 0 & -1 & 0\\end{matrix}\\right]$"
      ],
      "text/plain": [
       "Eq(M^{OpenGL}_{per, fov, rh}, Matrix([\n",
       "[1/(aspect*tan(theta_vfov/2)),                   0,                0,              0],\n",
       "[                           0, 1/tan(theta_vfov/2),                0,              0],\n",
       "[                           0,                   0, -(f + n)/(f - n), -2*f*n/(f - n)],\n",
       "[                           0,                   0,               -1,              0]]))"
      ]
     },
     "execution_count": 13,
     "metadata": {},
     "output_type": "execute_result"
    }
   ],
   "source": [
    "m_per_fov_opengl_rh_sym = sympy.Symbol(r'M^{OpenGL}_{per, fov, rh}')\n",
    "m_per_fov_opengl_rh = perspective_fov_rh_opengl()\n",
    "equation_for_display(m_per_fov_opengl_rh_sym, m_per_fov_opengl_rh)"
   ]
  },
  {
   "cell_type": "markdown",
   "id": "515737d6-4bdd-4547-90cc-db0c870fcd1b",
   "metadata": {},
   "source": [
    "The right-handed frustum orthographic projection matrix is given by"
   ]
  },
  {
   "cell_type": "code",
   "execution_count": 12,
   "id": "0dc997d3-9262-4b3f-b20a-e5f66633548a",
   "metadata": {},
   "outputs": [
    {
     "data": {
      "text/latex": [
       "$\\displaystyle M^{OpenGL}_{orth, rh} = \\left[\\begin{matrix}\\frac{2}{l + r} & 0 & 0 & \\frac{l - r}{l + r}\\\\0 & \\frac{2}{b + t} & 0 & \\frac{b - t}{b + t}\\\\0 & 0 & - \\frac{2}{f - n} & \\frac{- f - n}{f - n}\\\\0 & 0 & 0 & 1\\end{matrix}\\right]$"
      ],
      "text/plain": [
       "Eq(M^{OpenGL}_{orth, rh}, Matrix([\n",
       "[2/(l + r),         0,          0,  (l - r)/(l + r)],\n",
       "[        0, 2/(b + t),          0,  (b - t)/(b + t)],\n",
       "[        0,         0, -2/(f - n), (-f - n)/(f - n)],\n",
       "[        0,         0,          0,                1]]))"
      ]
     },
     "execution_count": 12,
     "metadata": {},
     "output_type": "execute_result"
    }
   ],
   "source": [
    "m_orth_opengl_rh_sym = sympy.Symbol(r'M^{OpenGL}_{orth, rh}')\n",
    "m_orth_opengl_rh = orthographic_rh_opengl()\n",
    "equation_for_display(m_orth_opengl_rh_sym, m_orth_opengl_rh)"
   ]
  },
  {
   "cell_type": "code",
   "execution_count": null,
   "id": "6a6e82af-c9ec-4d41-8431-2a63e39d125d",
   "metadata": {},
   "outputs": [],
   "source": []
  }
 ],
 "metadata": {
  "kernelspec": {
   "display_name": "Python 3 (ipykernel)",
   "language": "python",
   "name": "python3"
  },
  "language_info": {
   "codemirror_mode": {
    "name": "ipython",
    "version": 3
   },
   "file_extension": ".py",
   "mimetype": "text/x-python",
   "name": "python",
   "nbconvert_exporter": "python",
   "pygments_lexer": "ipython3",
   "version": "3.12.5"
  }
 },
 "nbformat": 4,
 "nbformat_minor": 5
}
