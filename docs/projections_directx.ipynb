{
 "cells": [
  {
   "cell_type": "markdown",
   "id": "920cfa20-52a2-45f2-9eb2-0bb694bb198e",
   "metadata": {},
   "source": [
    "# DirectX"
   ]
  },
  {
   "cell_type": "markdown",
   "id": "f950759a-ecfc-4776-ad7e-41f142e6fe57",
   "metadata": {},
   "source": [
    "In this section we derive the projection matrices for Metal. The basic process is the following.\n",
    "\n",
    "1. Define the view space orthonormal frame.\n",
    "2. Define the clip space orthonormal frame compatible with the target canonical view volume. The target clip space should have the same orthonormal frame as the target canonical view volume.\n",
    "3. Define the target canonical view volume's view volume.\n",
    "4. Define the frustum parameters for the view space viewing frustum.\n",
    "5. Using the frustum parameters and the canonical view volume parameters, construct a canonical version of the projection of interest.\n",
    "6. Construct a coordinate transformation from the view space orthonormal frame to the canonincal view space orthonormal frame.\n",
    "7. Construct a coordinate transformation from the canonical clip space to the target clip space.\n",
    "8. Multiply the resulting matrices together in the right order to get the final result.\n",
    "\n",
    "We now proceed to do this for Metal's left-handed and right-handed view space coordinate frames"
   ]
  },
  {
   "cell_type": "code",
   "execution_count": 4,
   "id": "7a571e8c-5315-4e95-9e4d-e91f637a075b",
   "metadata": {},
   "outputs": [],
   "source": [
    "import sys\n",
    "import os\n",
    "\n",
    "sys.path.insert(0, os.path.abspath('../projection_matrices'))"
   ]
  },
  {
   "cell_type": "code",
   "execution_count": 26,
   "id": "e662037b-0d1f-4c0d-a5e2-125139296b9f",
   "metadata": {},
   "outputs": [],
   "source": [
    "import sympy\n",
    "import projection_matrices as pm"
   ]
  },
  {
   "cell_type": "code",
   "execution_count": 57,
   "id": "16c2e714-f467-4be6-9e7e-e89ef045c224",
   "metadata": {},
   "outputs": [],
   "source": [
    "def equation_for_display(lhs, rhs) -> sympy.Eq:\n",
    "    expr_lhs = sympy.Symbol('expr_lhs')\n",
    "    expr_rhs = sympy.Symbol('expr_rhs')\n",
    "    expr_lhs = sympy.UnevaluatedExpr(lhs)\n",
    "    expr_rhs = sympy.UnevaluatedExpr(rhs)\n",
    "    \n",
    "    return sympy.Eq(expr_lhs, expr_rhs)"
   ]
  },
  {
   "cell_type": "code",
   "execution_count": 58,
   "id": "110a2e0e-2306-44cb-a399-8069726e5d7c",
   "metadata": {},
   "outputs": [],
   "source": [
    "def change_of_orientation_lh_to_rh() -> sympy.Matrix:\n",
    "    return sympy.Matrix([\n",
    "        [1, 0,  0, 0],\n",
    "        [0, 1,  0, 0],\n",
    "        [0, 0, -1, 0],\n",
    "        [0, 0,  0, 1]\n",
    "    ])\n",
    "\n",
    "def change_of_orientation_rh_to_lh() -> sympy.Matrix:\n",
    "    return sympy.Matrix([\n",
    "        [1, 0,  0, 0],\n",
    "        [0, 1,  0, 0],\n",
    "        [0, 0, -1, 0],\n",
    "        [0, 0,  0, 1]\n",
    "    ])\n",
    "\n",
    "def change_of_orientation_lh_to_lh() -> sympy.Matrix:\n",
    "    return sympy.Matrix([\n",
    "        [1, 0,  0, 0],\n",
    "        [0, 1,  0, 0],\n",
    "        [0, 0,  1, 0],\n",
    "        [0, 0,  0, 1]\n",
    "    ])\n",
    "\n",
    "def change_of_orientation_rh_to_rh() -> sympy.Matrix:\n",
    "    return sympy.Matrix([\n",
    "        [1, 0,  0, 0],\n",
    "        [0, 1,  0, 0],\n",
    "        [0, 0,  1, 0],\n",
    "        [0, 0,  0, 1]\n",
    "    ])"
   ]
  },
  {
   "cell_type": "markdown",
   "id": "29b3d0e4-99a8-4d73-94b0-c224a8f11f98",
   "metadata": {},
   "source": [
    "## Vector Space Details For The DirectX Left-Handed Orthornormal Frames"
   ]
  },
  {
   "cell_type": "markdown",
   "id": "3f416221-4929-48d2-813b-55e2ed050227",
   "metadata": {},
   "source": [
    "The **view space** is a vector space $V_{\\text{view}} := (\\mathbb{R}^3, O_{\\text{view}}, B_{\\text{view}})$ with the following properties:\n",
    "\n",
    "* The underlying vector space is $\\mathbb{R}^3$.\n",
    "* The **origin** of the frame is $O_{\\text{view}} := \\begin{bmatrix} 0 & 0 & 0 \\end{bmatrix}^T$\n",
    "* The **basis** of the frame is $B_{\\text{view}} := \\{ \\hat{x}, \\hat{y}, -\\hat{z} \\}$ where \n",
    "$\\hat{x} := \\begin{bmatrix} 1 & 0 & 0 \\end{bmatrix}^T, \\quad \n",
    "\\hat{y} := \\begin{bmatrix} 0 & 1 & 0 \\end{bmatrix}^T, \\quad \n",
    "\\hat{z} := \\begin{bmatrix} 0 & 0 & 1 \\end{bmatrix}^T$. The basis vector $\\hat{x}$ points to the right, the basis vector $\\hat{y}$ points up, and the basis vector $-\\hat{z}$ points into the view volume.\n",
    "* The orthonormal frame $(O_{\\text{view}}, B_{\\text{view}})$ has a left-handed orientation.\n",
    "\n",
    "The **clip space** is a vector space $V_{\\text{clip}} := (\\mathbb{R}^3, O_{\\text{clip}}, B_{\\text{clip}})$ with the following properties:\n",
    "\n",
    "* The underlying vector space is $\\mathbb{R}^3$.\n",
    "* The **origin** of the frame is $O_{\\text{clip}} := \\begin{bmatrix} 0 & 0 & 0 \\end{bmatrix}^T$\n",
    "* The **basis** of the frame is $B_{\\text{clip}} := \\{ \\hat{x}, \\hat{y}, -\\hat{z} \\}$ where \n",
    "$\\hat{x} := \\begin{bmatrix} 1 & 0 & 0 \\end{bmatrix}^T, \\quad \n",
    "\\hat{y} := \\begin{bmatrix} 0 & 1 & 0 \\end{bmatrix}^T, \\quad \n",
    "\\hat{z} := \\begin{bmatrix} 0 & 0 & 1 \\end{bmatrix}^T$. The basis vector $\\hat{x}$ points to the right, the basis vector $\\hat{y}$ points up, and the basis vector $-\\hat{z}$ points into the view volume.\n",
    "* The orthonormal frame $(O_{\\text{clip}}, B_{\\text{clip}})$ has a left-handed orientation.\n",
    "\n",
    "The **canonical view volume** is the vector space $V_{\\text{cvv}} := (\\mathbb{R}^3, O_{\\text{cvv}}, B_{\\text{cvv}})$ with the following properties:\n",
    "\n",
    "* The underlying vector space is $\\mathbb{R}^3$.\n",
    "* The **origin** of the frame is $O_{\\text{cvv}} := \\begin{bmatrix} 0 & 0 & 0 \\end{bmatrix}^T$\n",
    "* The **basis** of the frame is $B_{\\text{cvv}} := \\{ \\hat{x}, \\hat{y}, -\\hat{z} \\}$ where \n",
    "$\\hat{x} := \\begin{bmatrix} 1 & 0 & 0 \\end{bmatrix}^T, \\quad \n",
    "\\hat{y} := \\begin{bmatrix} 0 & 1 & 0 \\end{bmatrix}^T, \\quad \n",
    "\\hat{z} := \\begin{bmatrix} 0 & 0 & 1 \\end{bmatrix}^T$. The basis vector $\\hat{x}$ points to the right, the basis vector $\\hat{y}$ points up, and the basis vector $-\\hat{z}$ points into the view volume.\n",
    "* The orthonormal frame $(O_{\\text{cvv}}, B_{\\text{cvv}})$ has a right-handed orientation.\n",
    "* The **view volume** is parametrized by $[-1, 1] \\times [-1, 1] \\times [0, 1]$."
   ]
  },
  {
   "cell_type": "markdown",
   "id": "4318335f-633a-4c28-8708-12abdd177086",
   "metadata": {},
   "source": [
    "## Derivation Of The Projection Matrices For The Left-Handed View Space Orthonormal Frame"
   ]
  },
  {
   "cell_type": "markdown",
   "id": "104e62c3-932d-4549-bc32-3ae1824c1b00",
   "metadata": {},
   "source": [
    "In each case, we map the DirectX view space coordinate system to canonical view space coordinate system, apply the canonical transformation, then apply the clip space coordinate system transformation to get to DirectX's clip space. In the left-handed case, we map DirectX's view space coordinate frame to the canonical view space coordinate frame with an identity map. We map the canonical clip space coordinate frame to DirectX's clip space frame using another identity map. This results in the desired projection matrices."
   ]
  },
  {
   "cell_type": "code",
   "execution_count": 69,
   "id": "1a595906-aaa6-4f30-9210-d5ba89f0394e",
   "metadata": {},
   "outputs": [],
   "source": [
    "def perspective_lh_directx():\n",
    "    l, r, b, t, n, f = sympy.symbols('l r b t n f')\n",
    "    frustum_bounds = pm.FrustumBounds(l, r, b, t, n, f)\n",
    "    ndc_bounds = pm.NDCBounds(-1, 1, -1, 1, 0, 1)\n",
    "    m_per_can_lh_lh = pm.perspective(frustum_bounds, ndc_bounds)\n",
    "\n",
    "    x_lh_lh = sympy.Matrix.eye(4)\n",
    "    c_directx = sympy.Matrix.eye(4)\n",
    "    c_directx_inv = c_directx.inv()\n",
    "    \n",
    "    m_per_lh_lh = (x_lh_lh * c_directx_inv) * m_per_can_lh_lh * (c_directx * x_lh_lh)\n",
    "\n",
    "    return m_per_lh_lh\n",
    "\n",
    "def perspective_fov_lh_directx():\n",
    "    aspect, theta_vfov, n, f = sympy.symbols('aspect theta_vfov n f')\n",
    "    frustum_fov_bounds = pm.FrustumFovBounds(aspect, theta_vfov, n, f)\n",
    "    ndc_bounds = pm.NDCBounds(-1, 1, -1, 1, 0, 1)\n",
    "    m_per_fov_can_lh_lh = pm.perspective_fov(frustum_fov_bounds, ndc_bounds)\n",
    "\n",
    "    x_lh_lh = sympy.Matrix.eye(4)\n",
    "    c_directx = sympy.Matrix.eye(4)\n",
    "    c_directx_inv = c_directx.inv()\n",
    "    \n",
    "    m_per_fov_lh_lh = (x_lh_lh * c_directx_inv) * m_per_fov_can_lh_lh * (c_directx * x_lh_lh)\n",
    "\n",
    "    return m_per_fov_lh_lh\n",
    "\n",
    "def orthographic_lh_directx():\n",
    "    l, r, b, t, n, f = sympy.symbols('l r b t n f')\n",
    "    frustum_bounds = pm.FrustumBounds(l, r, b, t, n, f)\n",
    "    ndc_bounds = pm.NDCBounds(-1, 1, -1, 1, 0, 1)\n",
    "    m_orth_can_lh_lh = pm.orthographic(frustum_bounds, ndc_bounds)\n",
    "\n",
    "    x_lh_lh = sympy.Matrix.eye(4)\n",
    "    c_directx = sympy.Matrix.eye(4)\n",
    "    c_directx_inv = c_directx.inv()\n",
    "    \n",
    "    m_orth_lh_lh = (x_lh_lh * c_directx_inv) * m_orth_can_lh_lh * (c_directx * x_lh_lh)\n",
    "\n",
    "    return m_orth_lh_lh"
   ]
  },
  {
   "cell_type": "markdown",
   "id": "0f56d3ff-5321-4c29-b439-ee9bea786c8d",
   "metadata": {},
   "source": [
    "The left-handed frustum perspective projection matrix is given by"
   ]
  },
  {
   "cell_type": "code",
   "execution_count": 70,
   "id": "cb9250ae-9395-4d85-a810-10d5c7162a86",
   "metadata": {},
   "outputs": [
    {
     "data": {
      "text/latex": [
       "$\\displaystyle M^{DirectX}_{per, lh} = \\left[\\begin{matrix}\\frac{2 n}{l + r} & 0 & \\frac{l - r}{l + r} & 0\\\\0 & \\frac{2 n}{b + t} & \\frac{b - t}{b + t} & 0\\\\0 & 0 & \\frac{f}{f - n} & - \\frac{f n}{f - n}\\\\0 & 0 & 1 & 0\\end{matrix}\\right]$"
      ],
      "text/plain": [
       "Eq(M^{DirectX}_{per, lh}, Matrix([\n",
       "[2*n/(l + r),           0, (l - r)/(l + r),            0],\n",
       "[          0, 2*n/(b + t), (b - t)/(b + t),            0],\n",
       "[          0,           0,       f/(f - n), -f*n/(f - n)],\n",
       "[          0,           0,               1,            0]]))"
      ]
     },
     "execution_count": 70,
     "metadata": {},
     "output_type": "execute_result"
    }
   ],
   "source": [
    "m_per_directx_lh_sym = sympy.Symbol(r'M^{DirectX}_{per, lh}')\n",
    "m_per_directx_lh = perspective_lh_directx()\n",
    "equation_for_display(m_per_directx_lh_sym, m_per_directx_lh)"
   ]
  },
  {
   "cell_type": "markdown",
   "id": "b5e3fc07-3336-4f2e-b7c8-772a18ccc8a2",
   "metadata": {},
   "source": [
    "The left-handed symmetric vertical field of view perspective projection matrix is given by"
   ]
  },
  {
   "cell_type": "code",
   "execution_count": 71,
   "id": "c4721a45-ff2d-42d3-828f-7d1e6c8396f9",
   "metadata": {},
   "outputs": [
    {
     "data": {
      "text/latex": [
       "$\\displaystyle M^{DirectX}_{per, vfov, lh} = \\left[\\begin{matrix}\\frac{1}{aspect \\tan{\\left(\\frac{\\theta_{vfov}}{2} \\right)}} & 0 & 0 & 0\\\\0 & \\frac{1}{\\tan{\\left(\\frac{\\theta_{vfov}}{2} \\right)}} & 0 & 0\\\\0 & 0 & \\frac{f}{f - n} & - \\frac{f n}{f - n}\\\\0 & 0 & 1 & 0\\end{matrix}\\right]$"
      ],
      "text/plain": [
       "Eq(M^{DirectX}_{per, vfov, lh}, Matrix([\n",
       "[1/(aspect*tan(theta_vfov/2)),                   0,         0,            0],\n",
       "[                           0, 1/tan(theta_vfov/2),         0,            0],\n",
       "[                           0,                   0, f/(f - n), -f*n/(f - n)],\n",
       "[                           0,                   0,         1,            0]]))"
      ]
     },
     "execution_count": 71,
     "metadata": {},
     "output_type": "execute_result"
    }
   ],
   "source": [
    "m_per_fov_directx_lh_sym = sympy.Symbol(r'M^{DirectX}_{per, vfov, lh}')\n",
    "m_per_fov_directx_lh = perspective_fov_lh_directx()\n",
    "equation_for_display(m_per_fov_directx_lh_sym, m_per_fov_directx_lh)"
   ]
  },
  {
   "cell_type": "markdown",
   "id": "9c808123-72cb-4f29-a04c-c24c4c482fb8",
   "metadata": {},
   "source": [
    "The left-handed frustum orthographic projection matrix is given by"
   ]
  },
  {
   "cell_type": "code",
   "execution_count": 72,
   "id": "da6d86ee-4e4e-4ebc-ad73-dbeb61609bf4",
   "metadata": {},
   "outputs": [
    {
     "data": {
      "text/latex": [
       "$\\displaystyle M^{DirectX}_{orth, lh} = \\left[\\begin{matrix}\\frac{2}{l + r} & 0 & 0 & \\frac{l - r}{l + r}\\\\0 & \\frac{2}{b + t} & 0 & \\frac{b - t}{b + t}\\\\0 & 0 & \\frac{1}{f - n} & - \\frac{n}{f - n}\\\\0 & 0 & 0 & 1\\end{matrix}\\right]$"
      ],
      "text/plain": [
       "Eq(M^{DirectX}_{orth, lh}, Matrix([\n",
       "[2/(l + r),         0,         0, (l - r)/(l + r)],\n",
       "[        0, 2/(b + t),         0, (b - t)/(b + t)],\n",
       "[        0,         0, 1/(f - n),      -n/(f - n)],\n",
       "[        0,         0,         0,               1]]))"
      ]
     },
     "execution_count": 72,
     "metadata": {},
     "output_type": "execute_result"
    }
   ],
   "source": [
    "m_orth_directx_lh_sym = sympy.Symbol(r'M^{DirectX}_{orth, lh}')\n",
    "m_orth_directx_lh = orthographic_lh_directx()\n",
    "equation_for_display(m_orth_directx_lh_sym, m_orth_directx_lh)"
   ]
  },
  {
   "cell_type": "markdown",
   "id": "2fe2631d-0eee-4923-8c52-134aa03046bc",
   "metadata": {},
   "source": [
    "## Vector Space Details For The Metal Right-Handed Orthornormal Frames"
   ]
  },
  {
   "cell_type": "markdown",
   "id": "72435403-2917-4058-8fce-0974f0b6e60c",
   "metadata": {},
   "source": [
    "The **view space** is a vector space $V_{\\text{view}} := (\\mathbb{R}^3, O_{\\text{view}}, B_{\\text{view}})$ with the following properties:\n",
    "\n",
    "* The underlying vector space is $\\mathbb{R}^3$.\n",
    "* The **origin** of the frame is $O_{\\text{view}} := \\begin{bmatrix} 0 & 0 & 0 \\end{bmatrix}^T$\n",
    "* The **basis** of the frame is $B_{\\text{view}} := \\{ \\hat{x}, \\hat{y}, \\hat{z} \\}$ where \n",
    "$\\hat{x} := \\begin{bmatrix} 1 & 0 & 0 \\end{bmatrix}^T, \\quad \n",
    "\\hat{y} := \\begin{bmatrix} 0 & 1 & 0 \\end{bmatrix}^T, \\quad \n",
    "\\hat{z} := \\begin{bmatrix} 0 & 0 & 1 \\end{bmatrix}^T$. The basis vector $\\hat{x}$ points to the right, the basis vector $\\hat{y}$ points up, and the basis vector $\\hat{z}$ points towards the view away from the view volume.\n",
    "* The orthonormal frame $(O_{\\text{view}}, B_{\\text{view}})$ has a right-handed orientation.\n",
    "\n",
    "The **clip space** is a vector space $V_{\\text{clip}} := (\\mathbb{R}^3, O_{\\text{clip}}, B_{\\text{clip}})$ with the following properties:\n",
    "\n",
    "* The underlying vector space is $\\mathbb{R}^3$.\n",
    "* The **origin** of the frame is $O_{\\text{clip}} := \\begin{bmatrix} 0 & 0 & 0 \\end{bmatrix}^T$\n",
    "* The **basis** of the frame is $B_{\\text{clip}} := \\{ \\hat{x}, \\hat{y}, -\\hat{z} \\}$ where \n",
    "$\\hat{x} := \\begin{bmatrix} 1 & 0 & 0 \\end{bmatrix}^T, \\quad \n",
    "\\hat{y} := \\begin{bmatrix} 0 & 1 & 0 \\end{bmatrix}^T, \\quad \n",
    "\\hat{z} := \\begin{bmatrix} 0 & 0 & 1 \\end{bmatrix}^T$. The basis vector $\\hat{x}$ points to the right, the basis vector $\\hat{y}$ points up, and the basis vector $-\\hat{z}$ points into the view volume.\n",
    "* The orthonormal frame $(O_{\\text{clip}}, B_{\\text{clip}})$ has a left-handed orientation.\n",
    "\n",
    "The **canonical view volume** is the vector space $V_{\\text{cvv}} := (\\mathbb{R}^3, O_{\\text{cvv}}, B_{\\text{cvv}})$ with the following properties:\n",
    "\n",
    "* The underlying vector space is $\\mathbb{R}^3$.\n",
    "* The **origin** of the frame is $O_{\\text{cvv}} := \\begin{bmatrix} 0 & 0 & 0 \\end{bmatrix}^T$\n",
    "* The **basis** of the frame is $B_{\\text{cvv}} := \\{ \\hat{x}, \\hat{y}, -\\hat{z} \\}$ where \n",
    "$\\hat{x} := \\begin{bmatrix} 1 & 0 & 0 \\end{bmatrix}^T, \\quad \n",
    "\\hat{y} := \\begin{bmatrix} 0 & 1 & 0 \\end{bmatrix}^T, \\quad \n",
    "\\hat{z} := \\begin{bmatrix} 0 & 0 & 1 \\end{bmatrix}^T$. The basis vector $\\hat{x}$ points to the right, the basis vector $\\hat{y}$ points up, and the basis vector $-\\hat{z}$ points into the view volume.\n",
    "* The orthonormal frame $(O_{\\text{cvv}}, B_{\\text{cvv}})$ has a left-handed orientation.\n",
    "* The **view volume** is parametrized by $[-1, 1] \\times [-1, 1] \\times [0, 1]$."
   ]
  },
  {
   "cell_type": "markdown",
   "id": "932b494a-310c-4b75-99e8-bd62b35e4dea",
   "metadata": {},
   "source": [
    "## Derivation Of The Projection Matrices For The Right-Handed View Space Orthonormal Frame"
   ]
  },
  {
   "cell_type": "markdown",
   "id": "ca16f1ec-8963-478a-ae06-6cbcec7cf5db",
   "metadata": {},
   "source": [
    "In each case, we map the DirectX view space coordinate system to the canonical view space coordinate system, apply the canonical transformation, then apply the clip space coordinate system transformation to get to DirectX's clip space. In the right-handed case, DirectX's view space coordinate frame and clip space coordinate frame are opposite orientations, so the clip space transformation is a change of orientation matrix. This results in the desired projection matrices."
   ]
  },
  {
   "cell_type": "code",
   "execution_count": 65,
   "id": "deefefa2-7e2a-4cd0-97f9-ac75349f1011",
   "metadata": {},
   "outputs": [],
   "source": [
    "def perspective_rh_directx():\n",
    "    l, r, b, t, n, f = sympy.symbols('l r b t n f')\n",
    "    frustum_bounds = pm.FrustumBounds(l, r, b, t, n, f)\n",
    "    ndc_bounds = pm.NDCBounds(-1, 1, -1, 1, 0, 1)\n",
    "    m_per_can_lh_lh = pm.perspective(frustum_bounds, ndc_bounds)\n",
    "\n",
    "    x_rh_lh = change_of_orientation_rh_to_lh()\n",
    "    x_lh_lh = change_of_orientation_lh_to_lh()\n",
    "    c_directx = sympy.Matrix.eye(4)\n",
    "    c_directx_inv = c_directx.inv()\n",
    "    \n",
    "    m_per_rh_lh = (x_lh_lh * c_directx_inv) * m_per_can_lh_lh * (c_directx * x_rh_lh)\n",
    "\n",
    "    return m_per_rh_lh\n",
    "\n",
    "def perspective_fov_rh_directx():\n",
    "    aspect, theta_vfov, n, f = sympy.symbols('aspect theta_vfov n f')\n",
    "    frustum_fov_bounds = pm.FrustumFovBounds(aspect, theta_vfov, n, f)\n",
    "    ndc_bounds = pm.NDCBounds(-1, 1, -1, 1, 0, 1)\n",
    "    m_per_fov_can_lh_lh = pm.perspective_fov(frustum_fov_bounds, ndc_bounds)\n",
    "\n",
    "    x_rh_lh = change_of_orientation_rh_to_lh()\n",
    "    x_lh_lh = change_of_orientation_lh_to_lh()\n",
    "    c_directx = sympy.Matrix.eye(4)\n",
    "    c_directx_inv = c_directx.inv()\n",
    "    \n",
    "    m_per_fov_rh_lh = (x_lh_lh * c_directx_inv) * m_per_fov_can_lh_lh * (c_directx * x_rh_lh)\n",
    "\n",
    "    return m_per_fov_rh_lh\n",
    "\n",
    "def orthographic_rh_directx():\n",
    "    l, r, b, t, n, f = sympy.symbols('l r b t n f')\n",
    "    frustum_bounds = pm.FrustumBounds(l, r, b, t, n, f)\n",
    "    ndc_bounds = pm.NDCBounds(-1, 1, -1, 1, 0, 1)\n",
    "    m_orth_can_lh_lh = pm.orthographic(frustum_bounds, ndc_bounds)\n",
    "\n",
    "    x_rh_lh = change_of_orientation_rh_to_lh()\n",
    "    x_lh_lh = change_of_orientation_lh_to_lh()\n",
    "    c_directx = sympy.Matrix.eye(4)\n",
    "    c_directx_inv = c_directx.inv()\n",
    "    \n",
    "    m_orth_rh_lh = (x_lh_lh * c_directx_inv) * m_orth_can_lh_lh * (c_directx * x_rh_lh)\n",
    "\n",
    "    return m_orth_rh_lh"
   ]
  },
  {
   "cell_type": "markdown",
   "id": "184c7f97-ea02-4682-97cb-41a052435b20",
   "metadata": {},
   "source": [
    "The right-handed frustum perspective projection matrix is given by"
   ]
  },
  {
   "cell_type": "code",
   "execution_count": 66,
   "id": "2015aead-68a6-497a-8f8f-ced259fbe866",
   "metadata": {},
   "outputs": [
    {
     "data": {
      "text/latex": [
       "$\\displaystyle M^{DirectX}_{per, rh} = \\left[\\begin{matrix}\\frac{2 n}{l + r} & 0 & - \\frac{l - r}{l + r} & 0\\\\0 & \\frac{2 n}{b + t} & - \\frac{b - t}{b + t} & 0\\\\0 & 0 & - \\frac{f}{f - n} & - \\frac{f n}{f - n}\\\\0 & 0 & -1 & 0\\end{matrix}\\right]$"
      ],
      "text/plain": [
       "Eq(M^{DirectX}_{per, rh}, Matrix([\n",
       "[2*n/(l + r),           0, -(l - r)/(l + r),            0],\n",
       "[          0, 2*n/(b + t), -(b - t)/(b + t),            0],\n",
       "[          0,           0,       -f/(f - n), -f*n/(f - n)],\n",
       "[          0,           0,               -1,            0]]))"
      ]
     },
     "execution_count": 66,
     "metadata": {},
     "output_type": "execute_result"
    }
   ],
   "source": [
    "m_per_directx_rh_sym = sympy.Symbol(r'M^{DirectX}_{per, rh}')\n",
    "m_per_directx_rh = perspective_rh_directx()\n",
    "equation_for_display(m_per_directx_rh_sym, m_per_directx_rh)"
   ]
  },
  {
   "cell_type": "markdown",
   "id": "f9d9d769-7f63-4afc-aec7-be0a9286e70e",
   "metadata": {},
   "source": [
    "The right-handed symmetric vertical field of view perspective projection matrix is given by"
   ]
  },
  {
   "cell_type": "code",
   "execution_count": 67,
   "id": "760f863b-daa5-46d9-9353-dfcaeace585a",
   "metadata": {},
   "outputs": [
    {
     "data": {
      "text/latex": [
       "$\\displaystyle M^{DirectX}_{per, vfov, rh} = \\left[\\begin{matrix}\\frac{1}{aspect \\tan{\\left(\\frac{\\theta_{vfov}}{2} \\right)}} & 0 & 0 & 0\\\\0 & \\frac{1}{\\tan{\\left(\\frac{\\theta_{vfov}}{2} \\right)}} & 0 & 0\\\\0 & 0 & - \\frac{f}{f - n} & - \\frac{f n}{f - n}\\\\0 & 0 & -1 & 0\\end{matrix}\\right]$"
      ],
      "text/plain": [
       "Eq(M^{DirectX}_{per, vfov, rh}, Matrix([\n",
       "[1/(aspect*tan(theta_vfov/2)),                   0,          0,            0],\n",
       "[                           0, 1/tan(theta_vfov/2),          0,            0],\n",
       "[                           0,                   0, -f/(f - n), -f*n/(f - n)],\n",
       "[                           0,                   0,         -1,            0]]))"
      ]
     },
     "execution_count": 67,
     "metadata": {},
     "output_type": "execute_result"
    }
   ],
   "source": [
    "m_per_fov_directx_rh_sym = sympy.Symbol(r'M^{DirectX}_{per, vfov, rh}')\n",
    "m_per_fov_directx_rh = perspective_fov_rh_directx()\n",
    "equation_for_display(m_per_fov_directx_rh_sym, m_per_fov_directx_rh)"
   ]
  },
  {
   "cell_type": "markdown",
   "id": "7872e571-60f5-4f67-a607-36c4d3f2838e",
   "metadata": {},
   "source": [
    "The right-handed frustum orthographic projection matrix is given by"
   ]
  },
  {
   "cell_type": "code",
   "execution_count": 68,
   "id": "1f46726d-00df-4bad-8284-b23656f6d1df",
   "metadata": {},
   "outputs": [
    {
     "data": {
      "text/latex": [
       "$\\displaystyle M^{DirectX}_{orth, rh} = \\left[\\begin{matrix}\\frac{2}{l + r} & 0 & 0 & \\frac{l - r}{l + r}\\\\0 & \\frac{2}{b + t} & 0 & \\frac{b - t}{b + t}\\\\0 & 0 & - \\frac{1}{f - n} & - \\frac{n}{f - n}\\\\0 & 0 & 0 & 1\\end{matrix}\\right]$"
      ],
      "text/plain": [
       "Eq(M^{DirectX}_{orth, rh}, Matrix([\n",
       "[2/(l + r),         0,          0, (l - r)/(l + r)],\n",
       "[        0, 2/(b + t),          0, (b - t)/(b + t)],\n",
       "[        0,         0, -1/(f - n),      -n/(f - n)],\n",
       "[        0,         0,          0,               1]]))"
      ]
     },
     "execution_count": 68,
     "metadata": {},
     "output_type": "execute_result"
    }
   ],
   "source": [
    "m_orth_directx_rh_sym = sympy.Symbol(r'M^{DirectX}_{orth, rh}')\n",
    "m_orth_directx_rh = orthographic_rh_directx()\n",
    "equation_for_display(m_orth_directx_rh_sym, m_orth_directx_rh)"
   ]
  },
  {
   "cell_type": "code",
   "execution_count": null,
   "id": "d0c31215-03b0-42ea-a2f7-f01d735539bb",
   "metadata": {},
   "outputs": [],
   "source": []
  }
 ],
 "metadata": {
  "kernelspec": {
   "display_name": "Python 3 (ipykernel)",
   "language": "python",
   "name": "python3"
  },
  "language_info": {
   "codemirror_mode": {
    "name": "ipython",
    "version": 3
   },
   "file_extension": ".py",
   "mimetype": "text/x-python",
   "name": "python",
   "nbconvert_exporter": "python",
   "pygments_lexer": "ipython3",
   "version": "3.12.5"
  }
 },
 "nbformat": 4,
 "nbformat_minor": 5
}
