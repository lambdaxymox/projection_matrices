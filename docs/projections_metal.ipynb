{
 "cells": [
  {
   "cell_type": "markdown",
   "id": "752a9148-5621-4e63-b8d1-39a01979b146",
   "metadata": {},
   "source": [
    "# Metal"
   ]
  },
  {
   "cell_type": "markdown",
   "id": "5d71426a-0955-4afb-b77e-0d429c24fc3b",
   "metadata": {},
   "source": [
    "In this section we derive the projection matrices for Metal. The basic process is the following.\n",
    "\n",
    "1. Define the view space orthonormal frame.\n",
    "2. Define the clip space orthonormal frame compatible with the target canonical view volume. The target clip space should have the same orthonormal frame as the target canonical view volume.\n",
    "3. Define the target canonical view volume's view volume.\n",
    "4. Define the frustum parameters for the view space viewing frustum.\n",
    "5. Using the frustum parameters and the canonical view volume parameters, construct a canonical version of the projection of interest.\n",
    "6. Construct a coordinate transformation from the view space orthonormal frame to the canonincal view space orthonormal frame.\n",
    "7. Construct a coordinate transformation from the canonical clip space to the target clip space.\n",
    "8. Multiply the resulting matrices together in the right order to get the final result.\n",
    "\n",
    "We now proceed to do this for Metal's left-handed and right-handed view space coordinate frames."
   ]
  },
  {
   "cell_type": "code",
   "execution_count": 26,
   "id": "8b0952fc-d2a3-42d6-8685-cd74d52de4c9",
   "metadata": {},
   "outputs": [],
   "source": [
    "import sys\n",
    "import os\n",
    "\n",
    "sys.path.insert(0, os.path.abspath('../projection_matrices'))"
   ]
  },
  {
   "cell_type": "code",
   "execution_count": 27,
   "id": "b58c940a-230b-455b-8474-77671502f24a",
   "metadata": {},
   "outputs": [],
   "source": [
    "import sympy\n",
    "import projection_matrices as pm"
   ]
  },
  {
   "cell_type": "code",
   "execution_count": 28,
   "id": "4a39ed0e-439c-47db-abb8-d99c4f5cd97a",
   "metadata": {},
   "outputs": [],
   "source": [
    "def equation_for_display(lhs, rhs) -> sympy.Eq:\n",
    "    expr_lhs = sympy.Symbol('expr_lhs')\n",
    "    expr_rhs = sympy.Symbol('expr_rhs')\n",
    "    expr_lhs = sympy.UnevaluatedExpr(lhs)\n",
    "    expr_rhs = sympy.UnevaluatedExpr(rhs)\n",
    "    \n",
    "    return sympy.Eq(expr_lhs, expr_rhs)"
   ]
  },
  {
   "cell_type": "code",
   "execution_count": 45,
   "id": "7cfeff2b-0327-4d49-9c57-09de7e4674d1",
   "metadata": {},
   "outputs": [],
   "source": [
    "def change_of_orientation_lh_to_rh() -> sympy.Matrix:\n",
    "    return sympy.Matrix([\n",
    "        [1, 0,  0, 0],\n",
    "        [0, 1,  0, 0],\n",
    "        [0, 0, -1, 0],\n",
    "        [0, 0,  0, 1]\n",
    "    ])\n",
    "\n",
    "def change_of_orientation_rh_to_lh() -> sympy.Matrix:\n",
    "    return sympy.Matrix([\n",
    "        [1, 0,  0, 0],\n",
    "        [0, 1,  0, 0],\n",
    "        [0, 0, -1, 0],\n",
    "        [0, 0,  0, 1]\n",
    "    ])\n",
    "\n",
    "def change_of_orientation_lh_to_lh() -> sympy.Matrix:\n",
    "    return sympy.Matrix([\n",
    "        [1, 0,  0, 0],\n",
    "        [0, 1,  0, 0],\n",
    "        [0, 0,  1, 0],\n",
    "        [0, 0,  0, 1]\n",
    "    ])\n",
    "\n",
    "def change_of_orientation_rh_to_rh() -> sympy.Matrix:\n",
    "    return sympy.Matrix([\n",
    "        [1, 0,  0, 0],\n",
    "        [0, 1,  0, 0],\n",
    "        [0, 0,  1, 0],\n",
    "        [0, 0,  0, 1]\n",
    "    ])"
   ]
  },
  {
   "cell_type": "markdown",
   "id": "d7c4d755-6f66-4439-ac59-fa6c2a723c99",
   "metadata": {},
   "source": [
    "## Vector Space Details For The Metal Left-Handed Orthornormal Frames"
   ]
  },
  {
   "cell_type": "markdown",
   "id": "6cb5fab4-c0d3-46f7-8639-e9202408b212",
   "metadata": {},
   "source": [
    "The **view space** is a vector space $V_{\\text{view}} := (\\mathbb{R}^3, O_{\\text{view}}, B_{\\text{view}})$ with the following properties:\n",
    "\n",
    "* The underlying vector space is $\\mathbb{R}^3$.\n",
    "* The **origin** of the frame is $O_{\\text{view}} := \\begin{bmatrix} 0 & 0 & 0 \\end{bmatrix}^T$\n",
    "* The **basis** of the frame is $B_{\\text{view}} := \\{ \\hat{x}, \\hat{y}, -\\hat{z} \\}$ where \n",
    "$\\hat{x} := \\begin{bmatrix} 1 & 0 & 0 \\end{bmatrix}^T, \\quad \n",
    "\\hat{y} := \\begin{bmatrix} 0 & 1 & 0 \\end{bmatrix}^T, \\quad \n",
    "\\hat{z} := \\begin{bmatrix} 0 & 0 & 1 \\end{bmatrix}^T$. The basis vector $\\hat{x}$ points to the right, the basis vector $\\hat{y}$ points up, and the basis vector $-\\hat{z}$ points into the view volume.\n",
    "* The orthonormal frame $(O_{\\text{view}}, B_{\\text{view}})$ has a left-handed orientation.\n",
    "\n",
    "The **clip space** is a vector space $V_{\\text{clip}} := (\\mathbb{R}^3, O_{\\text{clip}}, B_{\\text{clip}})$ with the following properties:\n",
    "\n",
    "* The underlying vector space is $\\mathbb{R}^3$.\n",
    "* The **origin** of the frame is $O_{\\text{clip}} := \\begin{bmatrix} 0 & 0 & 0 \\end{bmatrix}^T$\n",
    "* The **basis** of the frame is $B_{\\text{clip}} := \\{ \\hat{x}, \\hat{y}, -\\hat{z} \\}$ where \n",
    "$\\hat{x} := \\begin{bmatrix} 1 & 0 & 0 \\end{bmatrix}^T, \\quad \n",
    "\\hat{y} := \\begin{bmatrix} 0 & 1 & 0 \\end{bmatrix}^T, \\quad \n",
    "\\hat{z} := \\begin{bmatrix} 0 & 0 & 1 \\end{bmatrix}^T$. The basis vector $\\hat{x}$ points to the right, the basis vector $\\hat{y}$ points up, and the basis vector $-\\hat{z}$ points into the view volume.\n",
    "* The orthonormal frame $(O_{\\text{clip}}, B_{\\text{clip}})$ has a left-handed orientation.\n",
    "\n",
    "The **canonical view volume** is the vector space $V_{\\text{cvv}} := (\\mathbb{R}^3, O_{\\text{cvv}}, B_{\\text{cvv}})$ with the following properties:\n",
    "\n",
    "* The underlying vector space is $\\mathbb{R}^3$.\n",
    "* The **origin** of the frame is $O_{\\text{cvv}} := \\begin{bmatrix} 0 & 0 & 0 \\end{bmatrix}^T$\n",
    "* The **basis** of the frame is $B_{\\text{cvv}} := \\{ \\hat{x}, \\hat{y}, -\\hat{z} \\}$ where \n",
    "$\\hat{x} := \\begin{bmatrix} 1 & 0 & 0 \\end{bmatrix}^T, \\quad \n",
    "\\hat{y} := \\begin{bmatrix} 0 & 1 & 0 \\end{bmatrix}^T, \\quad \n",
    "\\hat{z} := \\begin{bmatrix} 0 & 0 & 1 \\end{bmatrix}^T$. The basis vector $\\hat{x}$ points to the right, the basis vector $\\hat{y}$ points up, and the basis vector $-\\hat{z}$ points into the view volume.\n",
    "* The orthonormal frame $(O_{\\text{cvv}}, B_{\\text{cvv}})$ has a right-handed orientation.\n",
    "* The **view volume** is parametrized by $[-1, 1] \\times [-1, 1] \\times [0, 1]$."
   ]
  },
  {
   "cell_type": "markdown",
   "id": "c84798f3-34fa-4861-ac74-e4b659dc0b68",
   "metadata": {},
   "source": [
    "## Derivation Of The Projection Matrices For The Left-Handed View Space Orthonormal Frame"
   ]
  },
  {
   "cell_type": "markdown",
   "id": "b66f30e7-237c-4328-a037-ac32903c0fff",
   "metadata": {},
   "source": [
    "In each case, we map the Metal view space coordinate system to canonical view space coordinate system, apply the canonical transformation, then apply the clip space coordinate system transformation to get to Metal's clip space. In the left-handed case, we map Metal's view space coordinate frame to the canonical view space coordinate frame with an identity map. We map the canonical clip space coordinate frame to Metal's clip space frame using another identity map. This results in the desired projection matrices."
   ]
  },
  {
   "cell_type": "code",
   "execution_count": 46,
   "id": "b44a2047-47ca-4bf7-b5c3-73ca4f40bfb9",
   "metadata": {},
   "outputs": [],
   "source": [
    "def perspective_lh_metal() -> sympy.Matrix:\n",
    "    l, r, b, t, n, f = sympy.symbols('l r b t n f')\n",
    "    frustum_bounds = pm.FrustumBounds(l, r, b, t, n, f)\n",
    "    ndc_bounds = pm.NDCBounds(-1, 1, -1, 1, 0, 1)\n",
    "    m_per_can_lh_lh = pm.perspective(frustum_bounds, ndc_bounds)\n",
    "\n",
    "    x_lh_lh = sympy.Matrix.eye(4)\n",
    "    c_metal = sympy.Matrix.eye(4)\n",
    "    c_metal_inv = c_metal.inv()\n",
    "    \n",
    "    m_per_lh_lh = (x_lh_lh * c_metal_inv) * m_per_can_lh_lh * (c_metal * x_lh_lh)\n",
    "\n",
    "    return m_per_lh_lh\n",
    "\n",
    "def perspective_fov_lh_metal() -> sympy.Matrix:\n",
    "    aspect, theta_vfov, n, f = sympy.symbols('aspect theta_vfov n f')\n",
    "    frustum_fov_bounds = pm.FrustumFovBounds(aspect, theta_vfov, n, f)\n",
    "    ndc_bounds = pm.NDCBounds(-1, 1, -1, 1, 0, 1)\n",
    "    m_per_fov_can_lh_lh = pm.perspective_fov(frustum_fov_bounds, ndc_bounds)\n",
    "\n",
    "    x_lh_lh = sympy.Matrix.eye(4)\n",
    "    c_metal = sympy.Matrix.eye(4)\n",
    "    c_metal_inv = c_metal.inv()\n",
    "    \n",
    "    m_per_fov_lh_lh = (x_lh_lh * c_metal_inv) * m_per_fov_can_lh_lh * (c_metal * x_lh_lh)\n",
    "\n",
    "    return m_per_fov_lh_lh\n",
    "\n",
    "def orthographic_lh_metal() -> sympy.Matrix:\n",
    "    l, r, b, t, n, f = sympy.symbols('l r b t n f')\n",
    "    frustum_bounds = pm.FrustumBounds(l, r, b, t, n, f)\n",
    "    ndc_bounds = pm.NDCBounds(-1, 1, -1, 1, 0, 1)\n",
    "    m_orth_can_lh_lh = pm.orthographic(frustum_bounds, ndc_bounds)\n",
    "\n",
    "    x_lh_lh = sympy.Matrix.eye(4)\n",
    "    c_metal = sympy.Matrix.eye(4)\n",
    "    c_metal_inv = c_metal.inv()\n",
    "    \n",
    "    m_orth_lh_lh = (x_lh_lh * c_metal_inv) * m_orth_can_lh_lh * (c_metal * x_lh_lh)\n",
    "\n",
    "    return m_orth_lh_lh"
   ]
  },
  {
   "cell_type": "markdown",
   "id": "28aa301f-5745-4fc8-bc4d-85d7967c2eb5",
   "metadata": {},
   "source": [
    "The left-handed frustum perspective projection matrix is given by"
   ]
  },
  {
   "cell_type": "code",
   "execution_count": 54,
   "id": "077badb6-b1ff-498e-8f44-dd2286d427fb",
   "metadata": {},
   "outputs": [
    {
     "data": {
      "text/latex": [
       "$\\displaystyle M^{Metal}_{per, lh} = \\left[\\begin{matrix}\\frac{2 n}{l + r} & 0 & \\frac{l - r}{l + r} & 0\\\\0 & \\frac{2 n}{b + t} & \\frac{b - t}{b + t} & 0\\\\0 & 0 & \\frac{f}{f - n} & - \\frac{f n}{f - n}\\\\0 & 0 & 1 & 0\\end{matrix}\\right]$"
      ],
      "text/plain": [
       "Eq(M^{Metal}_{per, lh}, Matrix([\n",
       "[2*n/(l + r),           0, (l - r)/(l + r),            0],\n",
       "[          0, 2*n/(b + t), (b - t)/(b + t),            0],\n",
       "[          0,           0,       f/(f - n), -f*n/(f - n)],\n",
       "[          0,           0,               1,            0]]))"
      ]
     },
     "execution_count": 54,
     "metadata": {},
     "output_type": "execute_result"
    }
   ],
   "source": [
    "m_per_metal_lh_sym = sympy.Symbol(r'M^{Metal}_{per, lh}')\n",
    "m_per_metal_lh = perspective_lh_metal()\n",
    "equation_for_display(m_per_metal_lh_sym, m_per_metal_lh)"
   ]
  },
  {
   "cell_type": "markdown",
   "id": "07c6cd5d-3c3c-405a-a697-20064743cbf8",
   "metadata": {},
   "source": [
    "The left-handed symmetric vertical field of view perspective projection matrix is given by"
   ]
  },
  {
   "cell_type": "code",
   "execution_count": 55,
   "id": "3f0a45d4-68e4-4ca5-9d01-78103030be74",
   "metadata": {},
   "outputs": [
    {
     "data": {
      "text/latex": [
       "$\\displaystyle M^{Metal}_{per, vfov, lh} = \\left[\\begin{matrix}\\frac{1}{aspect \\tan{\\left(\\frac{\\theta_{vfov}}{2} \\right)}} & 0 & 0 & 0\\\\0 & \\frac{1}{\\tan{\\left(\\frac{\\theta_{vfov}}{2} \\right)}} & 0 & 0\\\\0 & 0 & \\frac{f}{f - n} & - \\frac{f n}{f - n}\\\\0 & 0 & 1 & 0\\end{matrix}\\right]$"
      ],
      "text/plain": [
       "Eq(M^{Metal}_{per, vfov, lh}, Matrix([\n",
       "[1/(aspect*tan(theta_vfov/2)),                   0,         0,            0],\n",
       "[                           0, 1/tan(theta_vfov/2),         0,            0],\n",
       "[                           0,                   0, f/(f - n), -f*n/(f - n)],\n",
       "[                           0,                   0,         1,            0]]))"
      ]
     },
     "execution_count": 55,
     "metadata": {},
     "output_type": "execute_result"
    }
   ],
   "source": [
    "m_per_fov_metal_lh_sym = sympy.Symbol(r'M^{Metal}_{per, vfov, lh}')\n",
    "m_per_fov_metal_lh = perspective_fov_lh_metal()\n",
    "equation_for_display(m_per_fov_metal_lh_sym, m_per_fov_metal_lh)"
   ]
  },
  {
   "cell_type": "markdown",
   "id": "7ca9218b-7f5e-4838-8970-557c71a21a30",
   "metadata": {},
   "source": [
    "The left-handed frustum orthographic projection matrix is given by"
   ]
  },
  {
   "cell_type": "code",
   "execution_count": 56,
   "id": "193909d8-2957-4084-8ba8-69f82fa01163",
   "metadata": {},
   "outputs": [
    {
     "data": {
      "text/latex": [
       "$\\displaystyle M^{Metal}_{orth, lh} = \\left[\\begin{matrix}\\frac{2}{l + r} & 0 & 0 & \\frac{l - r}{l + r}\\\\0 & \\frac{2}{b + t} & 0 & \\frac{b - t}{b + t}\\\\0 & 0 & \\frac{1}{f - n} & - \\frac{n}{f - n}\\\\0 & 0 & 0 & 1\\end{matrix}\\right]$"
      ],
      "text/plain": [
       "Eq(M^{Metal}_{orth, lh}, Matrix([\n",
       "[2/(l + r),         0,         0, (l - r)/(l + r)],\n",
       "[        0, 2/(b + t),         0, (b - t)/(b + t)],\n",
       "[        0,         0, 1/(f - n),      -n/(f - n)],\n",
       "[        0,         0,         0,               1]]))"
      ]
     },
     "execution_count": 56,
     "metadata": {},
     "output_type": "execute_result"
    }
   ],
   "source": [
    "m_orth_metal_lh_sym = sympy.Symbol(r'M^{Metal}_{orth, lh}')\n",
    "m_orth_metal_lh = orthographic_lh_metal()\n",
    "equation_for_display(m_orth_metal_lh_sym, m_orth_metal_lh)"
   ]
  },
  {
   "cell_type": "markdown",
   "id": "e2adb62d-d992-443e-972a-04f28086d38a",
   "metadata": {},
   "source": [
    "## Vector Space Details For The Metal Right-Handed Orthornormal Frames"
   ]
  },
  {
   "cell_type": "markdown",
   "id": "205ca09b-117c-4b1f-a699-f5485c2a0a84",
   "metadata": {},
   "source": [
    "The **view space** is a vector space $V_{\\text{view}} := (\\mathbb{R}^3, O_{\\text{view}}, B_{\\text{view}})$ with the following properties:\n",
    "\n",
    "* The underlying vector space is $\\mathbb{R}^3$.\n",
    "* The **origin** of the frame is $O_{\\text{view}} := \\begin{bmatrix} 0 & 0 & 0 \\end{bmatrix}^T$\n",
    "* The **basis** of the frame is $B_{\\text{view}} := \\{ \\hat{x}, \\hat{y}, \\hat{z} \\}$ where \n",
    "$\\hat{x} := \\begin{bmatrix} 1 & 0 & 0 \\end{bmatrix}^T, \\quad \n",
    "\\hat{y} := \\begin{bmatrix} 0 & 1 & 0 \\end{bmatrix}^T, \\quad \n",
    "\\hat{z} := \\begin{bmatrix} 0 & 0 & 1 \\end{bmatrix}^T$. The basis vector $\\hat{x}$ points to the right, the basis vector $\\hat{y}$ points up, and the basis vector $\\hat{z}$ points towards the view away from the view volume.\n",
    "* The orthonormal frame $(O_{\\text{view}}, B_{\\text{view}})$ has a right-handed orientation.\n",
    "\n",
    "The **clip space** is a vector space $V_{\\text{clip}} := (\\mathbb{R}^3, O_{\\text{clip}}, B_{\\text{clip}})$ with the following properties:\n",
    "\n",
    "* The underlying vector space is $\\mathbb{R}^3$.\n",
    "* The **origin** of the frame is $O_{\\text{clip}} := \\begin{bmatrix} 0 & 0 & 0 \\end{bmatrix}^T$\n",
    "* The **basis** of the frame is $B_{\\text{clip}} := \\{ \\hat{x}, \\hat{y}, -\\hat{z} \\}$ where \n",
    "$\\hat{x} := \\begin{bmatrix} 1 & 0 & 0 \\end{bmatrix}^T, \\quad \n",
    "\\hat{y} := \\begin{bmatrix} 0 & 1 & 0 \\end{bmatrix}^T, \\quad \n",
    "\\hat{z} := \\begin{bmatrix} 0 & 0 & 1 \\end{bmatrix}^T$. The basis vector $\\hat{x}$ points to the right, the basis vector $\\hat{y}$ points up, and the basis vector $-\\hat{z}$ points into the view volume.\n",
    "* The orthonormal frame $(O_{\\text{clip}}, B_{\\text{clip}})$ has a left-handed orientation.\n",
    "\n",
    "The **canonical view volume** is the vector space $V_{\\text{cvv}} := (\\mathbb{R}^3, O_{\\text{cvv}}, B_{\\text{cvv}})$ with the following properties:\n",
    "\n",
    "* The underlying vector space is $\\mathbb{R}^3$.\n",
    "* The **origin** of the frame is $O_{\\text{cvv}} := \\begin{bmatrix} 0 & 0 & 0 \\end{bmatrix}^T$\n",
    "* The **basis** of the frame is $B_{\\text{cvv}} := \\{ \\hat{x}, \\hat{y}, -\\hat{z} \\}$ where \n",
    "$\\hat{x} := \\begin{bmatrix} 1 & 0 & 0 \\end{bmatrix}^T, \\quad \n",
    "\\hat{y} := \\begin{bmatrix} 0 & 1 & 0 \\end{bmatrix}^T, \\quad \n",
    "\\hat{z} := \\begin{bmatrix} 0 & 0 & 1 \\end{bmatrix}^T$. The basis vector $\\hat{x}$ points to the right, the basis vector $\\hat{y}$ points up, and the basis vector $-\\hat{z}$ points into the view volume.\n",
    "* The orthonormal frame $(O_{\\text{cvv}}, B_{\\text{cvv}})$ has a left-handed orientation.\n",
    "* The **view volume** is parametrized by $[-1, 1] \\times [-1, 1] \\times [0, 1]$."
   ]
  },
  {
   "cell_type": "markdown",
   "id": "3fe1933d-9532-45c9-a672-7210dd0fb6d1",
   "metadata": {},
   "source": [
    "## Derivation Of The Projection Matrices For The Right-Handed View Space Orthonormal Frame"
   ]
  },
  {
   "cell_type": "markdown",
   "id": "e251b077-34a0-4610-aa6c-0ef50c4e1011",
   "metadata": {},
   "source": [
    "In each case, we map the Metal view space coordinate system to the canonical view space coordinate system, apply the canonical transformation, then apply the clip space coordinate system transformation to get to Metal's clip space. In the right-handed case, Metal's view space coordinate frame and clip space coordinate frame are opposite orientations, so the clip space transformation is a change of orientation matrix. This results in the desired projection matrices."
   ]
  },
  {
   "cell_type": "code",
   "execution_count": 50,
   "id": "611dd26a-a83c-43a4-a6a9-0635f098d8ce",
   "metadata": {},
   "outputs": [],
   "source": [
    "def perspective_rh_metal() -> sympy.Matrix:\n",
    "    l, r, b, t, n, f = sympy.symbols('l r b t n f')\n",
    "    frustum_bounds = pm.FrustumBounds(l, r, b, t, n, f)\n",
    "    ndc_bounds = pm.NDCBounds(-1, 1, -1, 1, 0, 1)\n",
    "    m_per_can_lh_lh = pm.perspective(frustum_bounds, ndc_bounds)\n",
    "\n",
    "    x_rh_lh = change_of_orientation_rh_to_lh()\n",
    "    x_lh_lh = change_of_orientation_lh_to_lh()\n",
    "    c_metal = sympy.Matrix.eye(4)\n",
    "    c_metal_inv = c_metal.inv()\n",
    "    \n",
    "    m_per_rh_lh = (x_lh_lh * c_metal_inv) * m_per_can_lh_lh * (c_metal * x_rh_lh)\n",
    "\n",
    "    return m_per_rh_lh\n",
    "\n",
    "def perspective_fov_rh_metal() -> sympy.Matrix:\n",
    "    aspect, theta_vfov, n, f = sympy.symbols('aspect theta_vfov n f')\n",
    "    frustum_fov_bounds = pm.FrustumFovBounds(aspect, theta_vfov, n, f)\n",
    "    ndc_bounds = pm.NDCBounds(-1, 1, -1, 1, 0, 1)\n",
    "    m_per_fov_can_lh_lh = pm.perspective_fov(frustum_fov_bounds, ndc_bounds)\n",
    "\n",
    "    x_rh_lh = change_of_orientation_rh_to_lh()\n",
    "    x_lh_lh = change_of_orientation_lh_to_lh()\n",
    "    c_metal = sympy.Matrix.eye(4)\n",
    "    c_metal_inv = c_metal.inv()\n",
    "    \n",
    "    m_per_fov_rh_lh = (x_lh_lh * c_metal_inv) * m_per_fov_can_lh_lh * (c_metal * x_rh_lh)\n",
    "\n",
    "    return m_per_fov_rh_lh\n",
    "\n",
    "def orthographic_rh_metal() -> sympy.Matrix:\n",
    "    l, r, b, t, n, f = sympy.symbols('l r b t n f')\n",
    "    frustum_bounds = pm.FrustumBounds(l, r, b, t, n, f)\n",
    "    ndc_bounds = pm.NDCBounds(-1, 1, -1, 1, 0, 1)\n",
    "    m_orth_can_lh_lh = pm.orthographic(frustum_bounds, ndc_bounds)\n",
    "\n",
    "    x_rh_lh = change_of_orientation_rh_to_lh()\n",
    "    x_lh_lh = change_of_orientation_lh_to_lh()\n",
    "    c_metal = sympy.Matrix.eye(4)\n",
    "    c_metal_inv = c_metal.inv()\n",
    "    \n",
    "    m_orth_rh_lh = (x_lh_lh * c_metal_inv) * m_orth_can_lh_lh * (c_metal * x_rh_lh)\n",
    "\n",
    "    return m_orth_rh_lh"
   ]
  },
  {
   "cell_type": "markdown",
   "id": "22f7b6fb-14b7-4391-aa20-95e7d8e07b65",
   "metadata": {},
   "source": [
    "The right-handed frustum perspective projection matrix is given by"
   ]
  },
  {
   "cell_type": "code",
   "execution_count": 51,
   "id": "99b151d1-334f-44c8-a08c-036f6dac6546",
   "metadata": {},
   "outputs": [
    {
     "data": {
      "text/latex": [
       "$\\displaystyle M^{Metal}_{per, rh} = \\left[\\begin{matrix}\\frac{2 n}{l + r} & 0 & - \\frac{l - r}{l + r} & 0\\\\0 & \\frac{2 n}{b + t} & - \\frac{b - t}{b + t} & 0\\\\0 & 0 & - \\frac{f}{f - n} & - \\frac{f n}{f - n}\\\\0 & 0 & -1 & 0\\end{matrix}\\right]$"
      ],
      "text/plain": [
       "Eq(M^{Metal}_{per, rh}, Matrix([\n",
       "[2*n/(l + r),           0, -(l - r)/(l + r),            0],\n",
       "[          0, 2*n/(b + t), -(b - t)/(b + t),            0],\n",
       "[          0,           0,       -f/(f - n), -f*n/(f - n)],\n",
       "[          0,           0,               -1,            0]]))"
      ]
     },
     "execution_count": 51,
     "metadata": {},
     "output_type": "execute_result"
    }
   ],
   "source": [
    "m_per_metal_rh_sym = sympy.Symbol(r'M^{Metal}_{per, rh}')\n",
    "m_per_metal_rh = perspective_rh_metal()\n",
    "equation_for_display(m_per_metal_rh_sym, m_per_metal_rh)"
   ]
  },
  {
   "cell_type": "markdown",
   "id": "0801d178-7567-46c9-9e25-20628824b2a1",
   "metadata": {},
   "source": [
    "The right-handed symmetric vertical field of view perspective projection matrix is given by"
   ]
  },
  {
   "cell_type": "code",
   "execution_count": 52,
   "id": "61645e08-93d8-49a0-8f95-bbb397b51658",
   "metadata": {},
   "outputs": [
    {
     "data": {
      "text/latex": [
       "$\\displaystyle M^{Metal}_{per, vfov, rh} = \\left[\\begin{matrix}\\frac{1}{aspect \\tan{\\left(\\frac{\\theta_{vfov}}{2} \\right)}} & 0 & 0 & 0\\\\0 & \\frac{1}{\\tan{\\left(\\frac{\\theta_{vfov}}{2} \\right)}} & 0 & 0\\\\0 & 0 & - \\frac{f}{f - n} & - \\frac{f n}{f - n}\\\\0 & 0 & -1 & 0\\end{matrix}\\right]$"
      ],
      "text/plain": [
       "Eq(M^{Metal}_{per, vfov, rh}, Matrix([\n",
       "[1/(aspect*tan(theta_vfov/2)),                   0,          0,            0],\n",
       "[                           0, 1/tan(theta_vfov/2),          0,            0],\n",
       "[                           0,                   0, -f/(f - n), -f*n/(f - n)],\n",
       "[                           0,                   0,         -1,            0]]))"
      ]
     },
     "execution_count": 52,
     "metadata": {},
     "output_type": "execute_result"
    }
   ],
   "source": [
    "m_per_fov_metal_rh_sym = sympy.Symbol(r'M^{Metal}_{per, vfov, rh}')\n",
    "m_per_fov_metal_rh = perspective_fov_rh_metal()\n",
    "equation_for_display(m_per_fov_metal_rh_sym, m_per_fov_metal_rh)"
   ]
  },
  {
   "cell_type": "markdown",
   "id": "c50c3687-abc3-4908-aa32-d10518539561",
   "metadata": {},
   "source": [
    "The right-handed frustum orthographic projection matrix is given by"
   ]
  },
  {
   "cell_type": "code",
   "execution_count": 53,
   "id": "66a54a8a-7d91-45f1-a45b-a3df9b3a6cb2",
   "metadata": {},
   "outputs": [
    {
     "data": {
      "text/latex": [
       "$\\displaystyle M^{Metal}_{orth, rh} = \\left[\\begin{matrix}\\frac{2}{l + r} & 0 & 0 & \\frac{l - r}{l + r}\\\\0 & \\frac{2}{b + t} & 0 & \\frac{b - t}{b + t}\\\\0 & 0 & - \\frac{1}{f - n} & - \\frac{n}{f - n}\\\\0 & 0 & 0 & 1\\end{matrix}\\right]$"
      ],
      "text/plain": [
       "Eq(M^{Metal}_{orth, rh}, Matrix([\n",
       "[2/(l + r),         0,          0, (l - r)/(l + r)],\n",
       "[        0, 2/(b + t),          0, (b - t)/(b + t)],\n",
       "[        0,         0, -1/(f - n),      -n/(f - n)],\n",
       "[        0,         0,          0,               1]]))"
      ]
     },
     "execution_count": 53,
     "metadata": {},
     "output_type": "execute_result"
    }
   ],
   "source": [
    "m_orth_metal_rh_sym = sympy.Symbol(r'M^{Metal}_{orth, rh}')\n",
    "m_orth_metal_rh = orthographic_rh_metal()\n",
    "equation_for_display(m_orth_metal_rh_sym, m_orth_metal_rh)"
   ]
  },
  {
   "cell_type": "code",
   "execution_count": null,
   "id": "975e3dd3-9232-4fca-8060-1089b0083d6b",
   "metadata": {},
   "outputs": [],
   "source": []
  }
 ],
 "metadata": {
  "kernelspec": {
   "display_name": "Python 3 (ipykernel)",
   "language": "python",
   "name": "python3"
  },
  "language_info": {
   "codemirror_mode": {
    "name": "ipython",
    "version": 3
   },
   "file_extension": ".py",
   "mimetype": "text/x-python",
   "name": "python",
   "nbconvert_exporter": "python",
   "pygments_lexer": "ipython3",
   "version": "3.12.5"
  }
 },
 "nbformat": 4,
 "nbformat_minor": 5
}
